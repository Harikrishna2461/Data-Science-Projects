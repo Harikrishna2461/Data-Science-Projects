{
  "cells": [
    {
      "cell_type": "code",
      "execution_count": null,
      "metadata": {
        "id": "SdLaHZdmUj_-"
      },
      "outputs": [],
      "source": [
        "import numpy as np \n",
        "import cv2\n",
        "import matplotlib.pyplot as plt\n",
        "%matplotlib inline"
      ]
    },
    {
      "cell_type": "code",
      "execution_count": null,
      "metadata": {
        "id": "fzc4VyDwUkAA"
      },
      "outputs": [],
      "source": [
        "path_to_data = \"C:\\\\Users\\\\harik\\\\Downloads\\\\ML_Celebritiy_Classification_Project\\\\Original Data\"\n",
        "path_to_cr_data = \"C:\\\\Users\\\\harik\\\\Downloads\\\\ML_Celebritiy_Classification_Project\\\\Cropped Data\""
      ]
    },
    {
      "cell_type": "code",
      "execution_count": null,
      "metadata": {
        "id": "9puUYqRdUkAA"
      },
      "outputs": [],
      "source": [
        "import os\n",
        "img_dirs = []\n",
        "for entry in os.scandir(path_to_data):\n",
        "    if entry.is_dir():\n",
        "        img_dirs.append(entry.path)\n"
      ]
    },
    {
      "cell_type": "code",
      "execution_count": null,
      "metadata": {
        "id": "cDwxgrU4UkAB",
        "outputId": "bdb937cd-50ef-43d4-f746-31b1840864ff"
      },
      "outputs": [
        {
          "data": {
            "text/plain": [
              "['C:\\\\Users\\\\harik\\\\Downloads\\\\ML_Celebritiy_Classification_Project\\\\Original Data\\\\Messi Dataset',\n",
              " 'C:\\\\Users\\\\harik\\\\Downloads\\\\ML_Celebritiy_Classification_Project\\\\Original Data\\\\MS Dhoni Dataset',\n",
              " 'C:\\\\Users\\\\harik\\\\Downloads\\\\ML_Celebritiy_Classification_Project\\\\Original Data\\\\Roger Federer Dataset',\n",
              " 'C:\\\\Users\\\\harik\\\\Downloads\\\\ML_Celebritiy_Classification_Project\\\\Original Data\\\\Virat Kohli Dataset']"
            ]
          },
          "execution_count": 4,
          "metadata": {},
          "output_type": "execute_result"
        }
      ],
      "source": [
        "img_dirs"
      ]
    },
    {
      "cell_type": "code",
      "execution_count": null,
      "metadata": {
        "id": "WmwrMhG1UkAC"
      },
      "outputs": [],
      "source": [
        "import shutil\n",
        "if os.path.exists(path_to_cr_data):\n",
        "     shutil.rmtree(path_to_cr_data)\n",
        "os.mkdir(path_to_cr_data)"
      ]
    },
    {
      "cell_type": "code",
      "execution_count": null,
      "metadata": {
        "id": "m6y3bU1LUkAD"
      },
      "outputs": [],
      "source": [
        "def get_cropped_image_if_2_eyes(image_path):\n",
        "    img = cv2.imread(image_path)\n",
        "    gray = cv2.cvtColor(img, cv2.COLOR_BGR2GRAY)\n",
        "    faces = face_cascade.detectMultiScale(gray, 1.4, 5)\n",
        "    for (x,y,w,h) in faces:\n",
        "        roi_gray = gray[y:y+h, x:x+w]\n",
        "        roi_color = img[y:y+h, x:x+w]\n",
        "        eyes = eye_cascade.detectMultiScale(roi_gray)\n",
        "        if len(eyes) >= 2:\n",
        "            return roi_color"
      ]
    },
    {
      "cell_type": "code",
      "execution_count": null,
      "metadata": {
        "id": "mcO9lMpKUkAD"
      },
      "outputs": [],
      "source": [
        "import os\n",
        "img_dir_messi = []\n",
        "for entry in os.scandir('C:\\\\Users\\\\harik\\\\Downloads\\\\ML_Celebritiy_Classification_Project\\\\Original Data\\\\Messi Dataset'):\n",
        "    img_dir_messi.append(entry.path)"
      ]
    },
    {
      "cell_type": "code",
      "execution_count": null,
      "metadata": {
        "id": "SIYC-ledUkAD"
      },
      "outputs": [],
      "source": [
        "import os\n",
        "img_dir_Dhoni = []\n",
        "for entry in os.scandir('C:\\\\Users\\\\harik\\\\Downloads\\\\ML_Celebritiy_Classification_Project\\\\Original Data\\\\MS Dhoni Dataset'):\n",
        "    img_dir_Dhoni.append(entry.path)"
      ]
    },
    {
      "cell_type": "code",
      "execution_count": null,
      "metadata": {
        "id": "WRL9MxLDUkAE"
      },
      "outputs": [],
      "source": [
        "import os\n",
        "img_dir_Federer = []\n",
        "for entry in os.scandir('C:\\\\Users\\\\harik\\\\Downloads\\\\ML_Celebritiy_Classification_Project\\\\Original Data\\\\Roger Federer Dataset'):\n",
        "    img_dir_Federer.append(entry.path)"
      ]
    },
    {
      "cell_type": "code",
      "execution_count": null,
      "metadata": {
        "id": "FQDKa-nNUkAE"
      },
      "outputs": [],
      "source": [
        "import os\n",
        "img_dir_Kohli = []\n",
        "for entry in os.scandir('C:\\\\Users\\\\harik\\\\Downloads\\\\ML_Celebritiy_Classification_Project\\\\Original Data\\\\Virat Kohli Dataset'):\n",
        "    img_dir_Kohli.append(entry.path)"
      ]
    },
    {
      "cell_type": "code",
      "execution_count": null,
      "metadata": {
        "id": "xtI3IrJCUkAF",
        "outputId": "3e67b134-03b2-4c60-82e2-062ec5694a5f"
      },
      "outputs": [
        {
          "data": {
            "text/plain": [
              "'C:\\\\Users\\\\harik\\\\Downloads\\\\ML_Celebritiy_Classification_Project\\\\Original Data\\\\Virat Kohli Dataset\\\\02fa06cf94.jpg'"
            ]
          },
          "execution_count": 11,
          "metadata": {},
          "output_type": "execute_result"
        }
      ],
      "source": [
        "img_dir_Kohli[1]"
      ]
    },
    {
      "cell_type": "code",
      "execution_count": null,
      "metadata": {
        "id": "K_ChpnykUkAF",
        "outputId": "83b08fab-2fec-4460-9a2b-8677f1d99ca1"
      },
      "outputs": [
        {
          "data": {
            "text/plain": [
              "['C:\\\\Users\\\\harik\\\\Downloads\\\\ML_Celebritiy_Classification_Project\\\\Original Data\\\\Virat Kohli Dataset\\\\.svn',\n",
              " 'C:\\\\Users\\\\harik\\\\Downloads\\\\ML_Celebritiy_Classification_Project\\\\Original Data\\\\Virat Kohli Dataset\\\\02fa06cf94.jpg',\n",
              " 'C:\\\\Users\\\\harik\\\\Downloads\\\\ML_Celebritiy_Classification_Project\\\\Original Data\\\\Virat Kohli Dataset\\\\05b9bac90a.jpg',\n",
              " 'C:\\\\Users\\\\harik\\\\Downloads\\\\ML_Celebritiy_Classification_Project\\\\Original Data\\\\Virat Kohli Dataset\\\\088db66e0b.jpg',\n",
              " 'C:\\\\Users\\\\harik\\\\Downloads\\\\ML_Celebritiy_Classification_Project\\\\Original Data\\\\Virat Kohli Dataset\\\\0b43460429.jpg',\n",
              " 'C:\\\\Users\\\\harik\\\\Downloads\\\\ML_Celebritiy_Classification_Project\\\\Original Data\\\\Virat Kohli Dataset\\\\0b53cce8c6.jpg',\n",
              " 'C:\\\\Users\\\\harik\\\\Downloads\\\\ML_Celebritiy_Classification_Project\\\\Original Data\\\\Virat Kohli Dataset\\\\0eb2230fbf.jpg',\n",
              " 'C:\\\\Users\\\\harik\\\\Downloads\\\\ML_Celebritiy_Classification_Project\\\\Original Data\\\\Virat Kohli Dataset\\\\1146943f73.jpg',\n",
              " 'C:\\\\Users\\\\harik\\\\Downloads\\\\ML_Celebritiy_Classification_Project\\\\Original Data\\\\Virat Kohli Dataset\\\\132a62a742.jpg',\n",
              " 'C:\\\\Users\\\\harik\\\\Downloads\\\\ML_Celebritiy_Classification_Project\\\\Original Data\\\\Virat Kohli Dataset\\\\150fc612d2.jpg',\n",
              " 'C:\\\\Users\\\\harik\\\\Downloads\\\\ML_Celebritiy_Classification_Project\\\\Original Data\\\\Virat Kohli Dataset\\\\1fee075645.jpg',\n",
              " 'C:\\\\Users\\\\harik\\\\Downloads\\\\ML_Celebritiy_Classification_Project\\\\Original Data\\\\Virat Kohli Dataset\\\\2018439965.jpg',\n",
              " 'C:\\\\Users\\\\harik\\\\Downloads\\\\ML_Celebritiy_Classification_Project\\\\Original Data\\\\Virat Kohli Dataset\\\\266f9eacf3.jpg',\n",
              " 'C:\\\\Users\\\\harik\\\\Downloads\\\\ML_Celebritiy_Classification_Project\\\\Original Data\\\\Virat Kohli Dataset\\\\27ad99a806.jpg',\n",
              " 'C:\\\\Users\\\\harik\\\\Downloads\\\\ML_Celebritiy_Classification_Project\\\\Original Data\\\\Virat Kohli Dataset\\\\28e155755b.jpg',\n",
              " 'C:\\\\Users\\\\harik\\\\Downloads\\\\ML_Celebritiy_Classification_Project\\\\Original Data\\\\Virat Kohli Dataset\\\\2c06edccfb.jpg',\n",
              " 'C:\\\\Users\\\\harik\\\\Downloads\\\\ML_Celebritiy_Classification_Project\\\\Original Data\\\\Virat Kohli Dataset\\\\357f957b72.jpg',\n",
              " 'C:\\\\Users\\\\harik\\\\Downloads\\\\ML_Celebritiy_Classification_Project\\\\Original Data\\\\Virat Kohli Dataset\\\\37d3f53e84.jpg',\n",
              " 'C:\\\\Users\\\\harik\\\\Downloads\\\\ML_Celebritiy_Classification_Project\\\\Original Data\\\\Virat Kohli Dataset\\\\3846bffc28.jpg',\n",
              " 'C:\\\\Users\\\\harik\\\\Downloads\\\\ML_Celebritiy_Classification_Project\\\\Original Data\\\\Virat Kohli Dataset\\\\39c2bd6fc9.jpg',\n",
              " 'C:\\\\Users\\\\harik\\\\Downloads\\\\ML_Celebritiy_Classification_Project\\\\Original Data\\\\Virat Kohli Dataset\\\\39e1dd840f.jpg',\n",
              " 'C:\\\\Users\\\\harik\\\\Downloads\\\\ML_Celebritiy_Classification_Project\\\\Original Data\\\\Virat Kohli Dataset\\\\3e6d62bc8e.jpg',\n",
              " 'C:\\\\Users\\\\harik\\\\Downloads\\\\ML_Celebritiy_Classification_Project\\\\Original Data\\\\Virat Kohli Dataset\\\\3f5fd4fead.jpg',\n",
              " 'C:\\\\Users\\\\harik\\\\Downloads\\\\ML_Celebritiy_Classification_Project\\\\Original Data\\\\Virat Kohli Dataset\\\\41de91b30f.jpg',\n",
              " 'C:\\\\Users\\\\harik\\\\Downloads\\\\ML_Celebritiy_Classification_Project\\\\Original Data\\\\Virat Kohli Dataset\\\\47f53ee402.jpg',\n",
              " 'C:\\\\Users\\\\harik\\\\Downloads\\\\ML_Celebritiy_Classification_Project\\\\Original Data\\\\Virat Kohli Dataset\\\\49f7355f97.jpg',\n",
              " 'C:\\\\Users\\\\harik\\\\Downloads\\\\ML_Celebritiy_Classification_Project\\\\Original Data\\\\Virat Kohli Dataset\\\\4cbef36ff6.jpg',\n",
              " 'C:\\\\Users\\\\harik\\\\Downloads\\\\ML_Celebritiy_Classification_Project\\\\Original Data\\\\Virat Kohli Dataset\\\\5181ba2b71.jpg',\n",
              " 'C:\\\\Users\\\\harik\\\\Downloads\\\\ML_Celebritiy_Classification_Project\\\\Original Data\\\\Virat Kohli Dataset\\\\52345a338c.jpg',\n",
              " 'C:\\\\Users\\\\harik\\\\Downloads\\\\ML_Celebritiy_Classification_Project\\\\Original Data\\\\Virat Kohli Dataset\\\\549e5c755e.jpg',\n",
              " 'C:\\\\Users\\\\harik\\\\Downloads\\\\ML_Celebritiy_Classification_Project\\\\Original Data\\\\Virat Kohli Dataset\\\\55620911db.jpg',\n",
              " 'C:\\\\Users\\\\harik\\\\Downloads\\\\ML_Celebritiy_Classification_Project\\\\Original Data\\\\Virat Kohli Dataset\\\\59a89ee258.jpg',\n",
              " 'C:\\\\Users\\\\harik\\\\Downloads\\\\ML_Celebritiy_Classification_Project\\\\Original Data\\\\Virat Kohli Dataset\\\\5a3384f779.jpg',\n",
              " 'C:\\\\Users\\\\harik\\\\Downloads\\\\ML_Celebritiy_Classification_Project\\\\Original Data\\\\Virat Kohli Dataset\\\\5e51e39db9.jpg',\n",
              " 'C:\\\\Users\\\\harik\\\\Downloads\\\\ML_Celebritiy_Classification_Project\\\\Original Data\\\\Virat Kohli Dataset\\\\631e46db26.jpg',\n",
              " 'C:\\\\Users\\\\harik\\\\Downloads\\\\ML_Celebritiy_Classification_Project\\\\Original Data\\\\Virat Kohli Dataset\\\\632b7bb5ea.jpg',\n",
              " 'C:\\\\Users\\\\harik\\\\Downloads\\\\ML_Celebritiy_Classification_Project\\\\Original Data\\\\Virat Kohli Dataset\\\\644558382a.jpg',\n",
              " 'C:\\\\Users\\\\harik\\\\Downloads\\\\ML_Celebritiy_Classification_Project\\\\Original Data\\\\Virat Kohli Dataset\\\\688be3f972.jpg',\n",
              " 'C:\\\\Users\\\\harik\\\\Downloads\\\\ML_Celebritiy_Classification_Project\\\\Original Data\\\\Virat Kohli Dataset\\\\6a1a57040d.jpg',\n",
              " 'C:\\\\Users\\\\harik\\\\Downloads\\\\ML_Celebritiy_Classification_Project\\\\Original Data\\\\Virat Kohli Dataset\\\\6adbc1218c.jpg',\n",
              " 'C:\\\\Users\\\\harik\\\\Downloads\\\\ML_Celebritiy_Classification_Project\\\\Original Data\\\\Virat Kohli Dataset\\\\6ca67cbf33.jpg',\n",
              " 'C:\\\\Users\\\\harik\\\\Downloads\\\\ML_Celebritiy_Classification_Project\\\\Original Data\\\\Virat Kohli Dataset\\\\6fb5b64053.jpg',\n",
              " 'C:\\\\Users\\\\harik\\\\Downloads\\\\ML_Celebritiy_Classification_Project\\\\Original Data\\\\Virat Kohli Dataset\\\\71ed3d75ae.jpg',\n",
              " 'C:\\\\Users\\\\harik\\\\Downloads\\\\ML_Celebritiy_Classification_Project\\\\Original Data\\\\Virat Kohli Dataset\\\\76a06a6ec1.jpg',\n",
              " 'C:\\\\Users\\\\harik\\\\Downloads\\\\ML_Celebritiy_Classification_Project\\\\Original Data\\\\Virat Kohli Dataset\\\\7953108375.jpg',\n",
              " 'C:\\\\Users\\\\harik\\\\Downloads\\\\ML_Celebritiy_Classification_Project\\\\Original Data\\\\Virat Kohli Dataset\\\\7e224dbc5c.jpg',\n",
              " 'C:\\\\Users\\\\harik\\\\Downloads\\\\ML_Celebritiy_Classification_Project\\\\Original Data\\\\Virat Kohli Dataset\\\\7fde5779f6.jpg',\n",
              " 'C:\\\\Users\\\\harik\\\\Downloads\\\\ML_Celebritiy_Classification_Project\\\\Original Data\\\\Virat Kohli Dataset\\\\80b6d56dca.jpg',\n",
              " 'C:\\\\Users\\\\harik\\\\Downloads\\\\ML_Celebritiy_Classification_Project\\\\Original Data\\\\Virat Kohli Dataset\\\\83cf04fd82.jpg',\n",
              " 'C:\\\\Users\\\\harik\\\\Downloads\\\\ML_Celebritiy_Classification_Project\\\\Original Data\\\\Virat Kohli Dataset\\\\83f9de72c1.jpg',\n",
              " 'C:\\\\Users\\\\harik\\\\Downloads\\\\ML_Celebritiy_Classification_Project\\\\Original Data\\\\Virat Kohli Dataset\\\\84b8ff940f.jpg',\n",
              " 'C:\\\\Users\\\\harik\\\\Downloads\\\\ML_Celebritiy_Classification_Project\\\\Original Data\\\\Virat Kohli Dataset\\\\84d7142d38.jpg',\n",
              " 'C:\\\\Users\\\\harik\\\\Downloads\\\\ML_Celebritiy_Classification_Project\\\\Original Data\\\\Virat Kohli Dataset\\\\85420dacb0.jpg',\n",
              " 'C:\\\\Users\\\\harik\\\\Downloads\\\\ML_Celebritiy_Classification_Project\\\\Original Data\\\\Virat Kohli Dataset\\\\877f7e3ca1.jpg',\n",
              " 'C:\\\\Users\\\\harik\\\\Downloads\\\\ML_Celebritiy_Classification_Project\\\\Original Data\\\\Virat Kohli Dataset\\\\8816565b00.jpg',\n",
              " 'C:\\\\Users\\\\harik\\\\Downloads\\\\ML_Celebritiy_Classification_Project\\\\Original Data\\\\Virat Kohli Dataset\\\\90217af76e.jpg',\n",
              " 'C:\\\\Users\\\\harik\\\\Downloads\\\\ML_Celebritiy_Classification_Project\\\\Original Data\\\\Virat Kohli Dataset\\\\924c3e8a40.jpg',\n",
              " 'C:\\\\Users\\\\harik\\\\Downloads\\\\ML_Celebritiy_Classification_Project\\\\Original Data\\\\Virat Kohli Dataset\\\\9411cc8728.jpg',\n",
              " 'C:\\\\Users\\\\harik\\\\Downloads\\\\ML_Celebritiy_Classification_Project\\\\Original Data\\\\Virat Kohli Dataset\\\\95f4fc9fdd.jpg',\n",
              " 'C:\\\\Users\\\\harik\\\\Downloads\\\\ML_Celebritiy_Classification_Project\\\\Original Data\\\\Virat Kohli Dataset\\\\97f960062f.jpg',\n",
              " 'C:\\\\Users\\\\harik\\\\Downloads\\\\ML_Celebritiy_Classification_Project\\\\Original Data\\\\Virat Kohli Dataset\\\\9a7668efc5.jpg',\n",
              " 'C:\\\\Users\\\\harik\\\\Downloads\\\\ML_Celebritiy_Classification_Project\\\\Original Data\\\\Virat Kohli Dataset\\\\9bb09002ef.jpg',\n",
              " 'C:\\\\Users\\\\harik\\\\Downloads\\\\ML_Celebritiy_Classification_Project\\\\Original Data\\\\Virat Kohli Dataset\\\\9c2340c897.jpg',\n",
              " 'C:\\\\Users\\\\harik\\\\Downloads\\\\ML_Celebritiy_Classification_Project\\\\Original Data\\\\Virat Kohli Dataset\\\\9c64bc0211.jpg',\n",
              " 'C:\\\\Users\\\\harik\\\\Downloads\\\\ML_Celebritiy_Classification_Project\\\\Original Data\\\\Virat Kohli Dataset\\\\9e308996ca.jpg',\n",
              " 'C:\\\\Users\\\\harik\\\\Downloads\\\\ML_Celebritiy_Classification_Project\\\\Original Data\\\\Virat Kohli Dataset\\\\9e30af3e8d.jpg',\n",
              " 'C:\\\\Users\\\\harik\\\\Downloads\\\\ML_Celebritiy_Classification_Project\\\\Original Data\\\\Virat Kohli Dataset\\\\a18f264208.jpg',\n",
              " 'C:\\\\Users\\\\harik\\\\Downloads\\\\ML_Celebritiy_Classification_Project\\\\Original Data\\\\Virat Kohli Dataset\\\\a410364f02.jpg',\n",
              " 'C:\\\\Users\\\\harik\\\\Downloads\\\\ML_Celebritiy_Classification_Project\\\\Original Data\\\\Virat Kohli Dataset\\\\a45a1e7929.jpg',\n",
              " 'C:\\\\Users\\\\harik\\\\Downloads\\\\ML_Celebritiy_Classification_Project\\\\Original Data\\\\Virat Kohli Dataset\\\\a76fdd6705.jpg',\n",
              " 'C:\\\\Users\\\\harik\\\\Downloads\\\\ML_Celebritiy_Classification_Project\\\\Original Data\\\\Virat Kohli Dataset\\\\aa9aff20c8.jpg',\n",
              " 'C:\\\\Users\\\\harik\\\\Downloads\\\\ML_Celebritiy_Classification_Project\\\\Original Data\\\\Virat Kohli Dataset\\\\aacdbc91c5.jpg',\n",
              " 'C:\\\\Users\\\\harik\\\\Downloads\\\\ML_Celebritiy_Classification_Project\\\\Original Data\\\\Virat Kohli Dataset\\\\b1b30289cc.jpg',\n",
              " 'C:\\\\Users\\\\harik\\\\Downloads\\\\ML_Celebritiy_Classification_Project\\\\Original Data\\\\Virat Kohli Dataset\\\\b24633ff69.jpg',\n",
              " 'C:\\\\Users\\\\harik\\\\Downloads\\\\ML_Celebritiy_Classification_Project\\\\Original Data\\\\Virat Kohli Dataset\\\\b2f20fd674.jpg',\n",
              " 'C:\\\\Users\\\\harik\\\\Downloads\\\\ML_Celebritiy_Classification_Project\\\\Original Data\\\\Virat Kohli Dataset\\\\b66da3c9c7.jpg',\n",
              " 'C:\\\\Users\\\\harik\\\\Downloads\\\\ML_Celebritiy_Classification_Project\\\\Original Data\\\\Virat Kohli Dataset\\\\b79492fc98.jpg',\n",
              " 'C:\\\\Users\\\\harik\\\\Downloads\\\\ML_Celebritiy_Classification_Project\\\\Original Data\\\\Virat Kohli Dataset\\\\bb41267a29.jpg',\n",
              " 'C:\\\\Users\\\\harik\\\\Downloads\\\\ML_Celebritiy_Classification_Project\\\\Original Data\\\\Virat Kohli Dataset\\\\bb99a735bd.jpg',\n",
              " 'C:\\\\Users\\\\harik\\\\Downloads\\\\ML_Celebritiy_Classification_Project\\\\Original Data\\\\Virat Kohli Dataset\\\\bf7a379edb.jpg',\n",
              " 'C:\\\\Users\\\\harik\\\\Downloads\\\\ML_Celebritiy_Classification_Project\\\\Original Data\\\\Virat Kohli Dataset\\\\c008190c48.jpg',\n",
              " 'C:\\\\Users\\\\harik\\\\Downloads\\\\ML_Celebritiy_Classification_Project\\\\Original Data\\\\Virat Kohli Dataset\\\\ca4ace6ffd.jpg',\n",
              " 'C:\\\\Users\\\\harik\\\\Downloads\\\\ML_Celebritiy_Classification_Project\\\\Original Data\\\\Virat Kohli Dataset\\\\cae47439c4.jpg',\n",
              " 'C:\\\\Users\\\\harik\\\\Downloads\\\\ML_Celebritiy_Classification_Project\\\\Original Data\\\\Virat Kohli Dataset\\\\cbb752d148.jpg',\n",
              " 'C:\\\\Users\\\\harik\\\\Downloads\\\\ML_Celebritiy_Classification_Project\\\\Original Data\\\\Virat Kohli Dataset\\\\ce8509c4a3.jpg',\n",
              " 'C:\\\\Users\\\\harik\\\\Downloads\\\\ML_Celebritiy_Classification_Project\\\\Original Data\\\\Virat Kohli Dataset\\\\d0dbbb10a1.jpg',\n",
              " 'C:\\\\Users\\\\harik\\\\Downloads\\\\ML_Celebritiy_Classification_Project\\\\Original Data\\\\Virat Kohli Dataset\\\\d3b3c15c31.jpg',\n",
              " 'C:\\\\Users\\\\harik\\\\Downloads\\\\ML_Celebritiy_Classification_Project\\\\Original Data\\\\Virat Kohli Dataset\\\\d926a8b18d.jpg',\n",
              " 'C:\\\\Users\\\\harik\\\\Downloads\\\\ML_Celebritiy_Classification_Project\\\\Original Data\\\\Virat Kohli Dataset\\\\da99f49cfd.jpg',\n",
              " 'C:\\\\Users\\\\harik\\\\Downloads\\\\ML_Celebritiy_Classification_Project\\\\Original Data\\\\Virat Kohli Dataset\\\\db14c38dcd.jpg',\n",
              " 'C:\\\\Users\\\\harik\\\\Downloads\\\\ML_Celebritiy_Classification_Project\\\\Original Data\\\\Virat Kohli Dataset\\\\dec07e4775.jpg',\n",
              " 'C:\\\\Users\\\\harik\\\\Downloads\\\\ML_Celebritiy_Classification_Project\\\\Original Data\\\\Virat Kohli Dataset\\\\e158b6a853.jpg',\n",
              " 'C:\\\\Users\\\\harik\\\\Downloads\\\\ML_Celebritiy_Classification_Project\\\\Original Data\\\\Virat Kohli Dataset\\\\e309859808.jpg',\n",
              " 'C:\\\\Users\\\\harik\\\\Downloads\\\\ML_Celebritiy_Classification_Project\\\\Original Data\\\\Virat Kohli Dataset\\\\e5de3a7e94.jpg',\n",
              " 'C:\\\\Users\\\\harik\\\\Downloads\\\\ML_Celebritiy_Classification_Project\\\\Original Data\\\\Virat Kohli Dataset\\\\ea43ba6899.jpg',\n",
              " 'C:\\\\Users\\\\harik\\\\Downloads\\\\ML_Celebritiy_Classification_Project\\\\Original Data\\\\Virat Kohli Dataset\\\\ee9b8b6b6b.jpg',\n",
              " 'C:\\\\Users\\\\harik\\\\Downloads\\\\ML_Celebritiy_Classification_Project\\\\Original Data\\\\Virat Kohli Dataset\\\\eede89a24b.jpg',\n",
              " 'C:\\\\Users\\\\harik\\\\Downloads\\\\ML_Celebritiy_Classification_Project\\\\Original Data\\\\Virat Kohli Dataset\\\\f4f9df9fcc.jpg',\n",
              " 'C:\\\\Users\\\\harik\\\\Downloads\\\\ML_Celebritiy_Classification_Project\\\\Original Data\\\\Virat Kohli Dataset\\\\f5fc8953ab.jpg',\n",
              " 'C:\\\\Users\\\\harik\\\\Downloads\\\\ML_Celebritiy_Classification_Project\\\\Original Data\\\\Virat Kohli Dataset\\\\f70491a4c2.jpg',\n",
              " 'C:\\\\Users\\\\harik\\\\Downloads\\\\ML_Celebritiy_Classification_Project\\\\Original Data\\\\Virat Kohli Dataset\\\\f8d44f8840.jpg',\n",
              " 'C:\\\\Users\\\\harik\\\\Downloads\\\\ML_Celebritiy_Classification_Project\\\\Original Data\\\\Virat Kohli Dataset\\\\fa92cc3cd5.jpg',\n",
              " 'C:\\\\Users\\\\harik\\\\Downloads\\\\ML_Celebritiy_Classification_Project\\\\Original Data\\\\Virat Kohli Dataset\\\\fc47090678.jpg',\n",
              " 'C:\\\\Users\\\\harik\\\\Downloads\\\\ML_Celebritiy_Classification_Project\\\\Original Data\\\\Virat Kohli Dataset\\\\fc75b07003.jpg',\n",
              " 'C:\\\\Users\\\\harik\\\\Downloads\\\\ML_Celebritiy_Classification_Project\\\\Original Data\\\\Virat Kohli Dataset\\\\kohli1.jpg']"
            ]
          },
          "execution_count": 12,
          "metadata": {},
          "output_type": "execute_result"
        }
      ],
      "source": [
        "img_dir_Kohli"
      ]
    },
    {
      "cell_type": "code",
      "execution_count": null,
      "metadata": {
        "id": "FJMGFzwmUkAF"
      },
      "outputs": [],
      "source": [
        "face_cascade = cv2.CascadeClassifier('C:\\\\Users\\\\harik\\\\Downloads\\\\ML_Celebritiy_Classification_Project\\\\OPEN CV HaarCascades for Face and eye Detection\\\\haarcascade_frontalface_default.xml')\n",
        "eye_cascade = cv2.CascadeClassifier('C:\\\\Users\\\\harik\\\\Downloads\\\\ML_Celebritiy_Classification_Project\\\\OPEN CV HaarCascades for Face and eye Detection\\\\haarcascade_eye.xml')\n",
        "roi_color = get_cropped_image_if_2_eyes('C:\\\\Users\\\\harik\\\\Downloads\\\\ML_Celebritiy_Classification_Project\\\\Original Data\\\\Virat Kohli Dataset\\\\kohli1.jpg')"
      ]
    },
    {
      "cell_type": "code",
      "execution_count": null,
      "metadata": {
        "id": "mM9UFMo3UkAG",
        "outputId": "cd1d57eb-49ad-4910-9d21-9d5859a3da95"
      },
      "outputs": [
        {
          "data": {
            "text/plain": [
              "<matplotlib.image.AxesImage at 0x235eae74ef0>"
            ]
          },
          "execution_count": 14,
          "metadata": {},
          "output_type": "execute_result"
        },
        {
          "data": {
            "image/png": "[encoded data removed]",
            "text/plain": [
              "<Figure size 432x288 with 1 Axes>"
            ]
          },
          "metadata": {
            "needs_background": "light"
          },
          "output_type": "display_data"
        }
      ],
      "source": [
        "plt.imshow(roi_color)"
      ]
    },
    {
      "cell_type": "code",
      "execution_count": null,
      "metadata": {
        "id": "o6Vmf4aYUkAG",
        "outputId": "1a6c0e47-077d-418d-f3f7-f86b06869368"
      },
      "outputs": [
        {
          "data": {
            "text/plain": [
              "array([[[ 15,   9,  20],\n",
              "        [ 21,  20,  30],\n",
              "        [ 10,  13,  21],\n",
              "        ...,\n",
              "        [ 37,  51,  80],\n",
              "        [ 36,  50,  79],\n",
              "        [ 37,  51,  79]],\n",
              "\n",
              "       [[ 24,  17,  32],\n",
              "        [ 25,  22,  37],\n",
              "        [ 12,  18,  25],\n",
              "        ...,\n",
              "        [ 36,  50,  79],\n",
              "        [ 36,  50,  79],\n",
              "        [ 37,  51,  79]],\n",
              "\n",
              "       [[ 31,  27,  39],\n",
              "        [ 13,  11,  23],\n",
              "        [ 12,  16,  21],\n",
              "        ...,\n",
              "        [ 36,  50,  79],\n",
              "        [ 36,  50,  79],\n",
              "        [ 36,  50,  78]],\n",
              "\n",
              "       ...,\n",
              "\n",
              "       [[  4,   4,   4],\n",
              "        [168, 170, 170],\n",
              "        [233, 237, 238],\n",
              "        ...,\n",
              "        [200, 245, 255],\n",
              "        [129, 181, 197],\n",
              "        [ 66, 122, 147]],\n",
              "\n",
              "       [[  7,   6,   2],\n",
              "        [ 38,  37,  33],\n",
              "        [255, 254, 255],\n",
              "        ...,\n",
              "        [186, 228, 240],\n",
              "        [152, 204, 217],\n",
              "        [ 73, 130, 152]],\n",
              "\n",
              "       [[ 24,  21,  17],\n",
              "        [  9,   3,   0],\n",
              "        [155, 147, 148],\n",
              "        ...,\n",
              "        [200, 241, 250],\n",
              "        [170, 222, 234],\n",
              "        [ 80, 135, 156]]], dtype=uint8)"
            ]
          },
          "execution_count": 15,
          "metadata": {},
          "output_type": "execute_result"
        }
      ],
      "source": [
        "roi_color"
      ]
    },
    {
      "cell_type": "code",
      "execution_count": null,
      "metadata": {
        "id": "LXvzD64kUkAG"
      },
      "outputs": [],
      "source": [
        "#Now we iterate over our normal images dataset and then crop them if they have two eyes visible in the dataset and then save these cropped images in our PC-Laptop"
      ]
    },
    {
      "cell_type": "code",
      "execution_count": null,
      "metadata": {
        "id": "huzPopfbUkAH"
      },
      "outputs": [],
      "source": [
        "cropped_image_dirs = []\n",
        "celebrity_name = 'Messi'\n",
        "celebrity_file_names_dict = {}\n",
        "celebrity_file_names_dict[celebrity_name] = []\n",
        "count = 1\n",
        "for i in range(1,len(img_dir_messi)):\n",
        "    roi_color = get_cropped_image_if_2_eyes(img_dir_messi[i])\n",
        "    if roi_color is not None:\n",
        "        cropped_folder = path_to_cr_data + celebrity_name\n",
        "        if not os.path.exists(cropped_folder):\n",
        "            os.makedirs(cropped_folder)\n",
        "            cropped_image_dirs.append(cropped_folder)\n",
        "            print(\"Generating cropped images in folder: \",cropped_folder)\n",
        "                \n",
        "        cropped_file_name = celebrity_name + str(count) + \".png\"\n",
        "        cropped_file_path = cropped_folder + \"\\\\\" + cropped_file_name \n",
        "            \n",
        "        cv2.imwrite(cropped_file_path, roi_color)\n",
        "        celebrity_file_names_dict[celebrity_name].append(cropped_file_path)\n",
        "    count += 1"
      ]
    },
    {
      "cell_type": "code",
      "execution_count": null,
      "metadata": {
        "id": "YH0brK45UkAH"
      },
      "outputs": [],
      "source": [
        "celebrity_name = 'Dhoni'\n",
        "celebrity_file_names_dict = {}\n",
        "celebrity_file_names_dict[celebrity_name] = []\n",
        "count = 1\n",
        "for i in range(1,len(img_dir_Dhoni)):\n",
        "    roi_color = get_cropped_image_if_2_eyes(img_dir_Dhoni[i])\n",
        "    if roi_color is not None:\n",
        "        cropped_folder = path_to_cr_data + celebrity_name\n",
        "        if not os.path.exists(cropped_folder):\n",
        "            os.makedirs(cropped_folder)\n",
        "            cropped_image_dirs.append(cropped_folder)\n",
        "            print(\"Generating cropped images in folder: \",cropped_folder)\n",
        "                \n",
        "        cropped_file_name = celebrity_name + str(count) + \".png\"\n",
        "        cropped_file_path = cropped_folder + \"\\\\\" + cropped_file_name \n",
        "            \n",
        "        cv2.imwrite(cropped_file_path, roi_color)\n",
        "        celebrity_file_names_dict[celebrity_name].append(cropped_file_path)\n",
        "    count += 1"
      ]
    },
    {
      "cell_type": "code",
      "execution_count": null,
      "metadata": {
        "id": "f2tp7LfDUkAI"
      },
      "outputs": [],
      "source": [
        "celebrity_name = 'Federer'\n",
        "celebrity_file_names_dict = {}\n",
        "celebrity_file_names_dict[celebrity_name] = []\n",
        "count = 1\n",
        "for i in range(1,len(img_dir_Federer)):\n",
        "    roi_color = get_cropped_image_if_2_eyes(img_dir_Federer[i])\n",
        "    if roi_color is not None:\n",
        "        cropped_folder = path_to_cr_data + celebrity_name\n",
        "        if not os.path.exists(cropped_folder):\n",
        "            os.makedirs(cropped_folder)\n",
        "            cropped_image_dirs.append(cropped_folder)\n",
        "            print(\"Generating cropped images in folder: \",cropped_folder)\n",
        "                \n",
        "        cropped_file_name = celebrity_name + str(count) + \".png\"\n",
        "        cropped_file_path = cropped_folder + \"\\\\\" + cropped_file_name \n",
        "            \n",
        "        cv2.imwrite(cropped_file_path, roi_color)\n",
        "        celebrity_file_names_dict[celebrity_name].append(cropped_file_path)\n",
        "    count += 1"
      ]
    },
    {
      "cell_type": "code",
      "execution_count": null,
      "metadata": {
        "id": "JaKLkKjnUkAI"
      },
      "outputs": [],
      "source": [
        "celebrity_name = 'Kohli'\n",
        "celebrity_file_names_dict = {}\n",
        "celebrity_file_names_dict[celebrity_name] = []\n",
        "count = 1\n",
        "for i in range(1,len(img_dir_Kohli)):\n",
        "    roi_color = get_cropped_image_if_2_eyes(img_dir_Kohli[i])\n",
        "    if roi_color is not None:\n",
        "        cropped_folder = path_to_cr_data + celebrity_name\n",
        "        if not os.path.exists(cropped_folder):\n",
        "            os.makedirs(cropped_folder)\n",
        "            cropped_image_dirs.append(cropped_folder)\n",
        "            print(\"Generating cropped images in folder: \",cropped_folder)\n",
        "                \n",
        "        cropped_file_name = celebrity_name + str(count) + \".png\"\n",
        "        cropped_file_path = cropped_folder + \"\\\\\" + cropped_file_name \n",
        "            \n",
        "        cv2.imwrite(cropped_file_path, roi_color)\n",
        "        celebrity_file_names_dict[celebrity_name].append(cropped_file_path)\n",
        "    count += 1"
      ]
    },
    {
      "cell_type": "code",
      "execution_count": null,
      "metadata": {
        "id": "ljXu5Z1vUkAJ"
      },
      "outputs": [],
      "source": [
        "#Now we perform Wavelet Transformation on all images and then save these wavelet transformed images to our PC.We then combine (vertically stack the two images(normal raw image and thewavelet transformed image) and the use the single stacked image as the input instance) wavelet transformed images along with normal raw cropped images to form our ultimate dataset before dividing then into X and Y Dataset\n",
        "#Wavelet transformation can be used to extract complex facial features from the raw image.These wavelet transformed images are easier to interpret by the Computer. "
      ]
    },
    {
      "cell_type": "code",
      "execution_count": null,
      "metadata": {
        "id": "WvDI6hvvUkAJ"
      },
      "outputs": [],
      "source": [
        "import numpy as np\n",
        "import pywt\n",
        "import cv2    \n",
        "\n",
        "def w2d(img, mode='haar', level=1):\n",
        "    imArray = img\n",
        "    #Datatype conversions\n",
        "    #convert to grayscale\n",
        "    imArray = cv2.cvtColor( imArray,cv2.COLOR_RGB2GRAY )\n",
        "    #convert to float\n",
        "    imArray =  np.float32(imArray)   \n",
        "    imArray /= 255;\n",
        "    # compute coefficients \n",
        "    coeffs=pywt.wavedec2(imArray, mode, level=level)\n",
        "\n",
        "    #Process Coefficients\n",
        "    coeffs_H=list(coeffs)  \n",
        "    coeffs_H[0] *= 0;  \n",
        "\n",
        "    # reconstruction\n",
        "    imArray_H=pywt.waverec2(coeffs_H, mode);\n",
        "    imArray_H *= 255;\n",
        "    imArray_H =  np.uint8(imArray_H)\n",
        "\n",
        "    return imArray_H"
      ]
    },
    {
      "cell_type": "code",
      "execution_count": null,
      "metadata": {
        "id": "CvF3668yUkAK"
      },
      "outputs": [],
      "source": [
        "roi_color = get_cropped_image_if_2_eyes('C:\\\\Users\\\\harik\\\\Downloads\\\\ML_Celebritiy_Classification_Project\\\\Original Data\\\\Virat Kohli Dataset\\\\kohli1.jpg')\n",
        "im_har = w2d(roi_color,'db1',5)\n",
        "import matplotlib.pyplot as plt"
      ]
    },
    {
      "cell_type": "code",
      "execution_count": null,
      "metadata": {
        "id": "kVizIOjBUkAK",
        "outputId": "4ed8d459-de6e-4977-f695-58c2fb283e5e"
      },
      "outputs": [
        {
          "data": {
            "text/plain": [
              "<matplotlib.image.AxesImage at 0x235ebc01550>"
            ]
          },
          "execution_count": 24,
          "metadata": {},
          "output_type": "execute_result"
        },
        {
          "data": {
            "image/png": "[encoded data removed]",
            "text/plain": [
              "<Figure size 432x288 with 1 Axes>"
            ]
          },
          "metadata": {
            "needs_background": "light"
          },
          "output_type": "display_data"
        }
      ],
      "source": [
        "plt.imshow(im_har, cmap='gray')"
      ]
    },
    {
      "cell_type": "code",
      "execution_count": null,
      "metadata": {
        "id": "Cddwc2qVUkAK"
      },
      "outputs": [],
      "source": [
        "def get_cropped_image_if_2_eyes(image_path):\n",
        "    img = cv2.imread(image_path)\n",
        "    gray = cv2.cvtColor(img, cv2.COLOR_BGR2GRAY)\n",
        "    faces = face_cascade.detectMultiScale(gray, 1.3, 5)\n",
        "    for (x,y,w,h) in faces:\n",
        "        roi_gray = gray[y:y+h, x:x+w]\n",
        "        roi_color = img[y:y+h, x:x+w]\n",
        "        eyes = eye_cascade.detectMultiScale(roi_gray)\n",
        "        if len(eyes) >= 2:\n",
        "            return roi_color"
      ]
    },
    {
      "cell_type": "code",
      "execution_count": null,
      "metadata": {
        "id": "oJFBJKMnUkAK",
        "outputId": "c354ca7f-bcdf-473d-d5dd-5515102f80ac"
      },
      "outputs": [
        {
          "data": {
            "text/plain": [
              "<matplotlib.image.AxesImage at 0x235ebc76208>"
            ]
          },
          "execution_count": 26,
          "metadata": {},
          "output_type": "execute_result"
        },
        {
          "data": {
            "image/png": "[encoded data removed]",
            "text/plain": [
              "<Figure size 432x288 with 1 Axes>"
            ]
          },
          "metadata": {
            "needs_background": "light"
          },
          "output_type": "display_data"
        }
      ],
      "source": [
        "original_image = cv2.imread('C:\\\\Users\\\\harik\\\\Downloads\\\\ML_Celebritiy_Classification_Project\\\\Original Data\\\\Virat Kohli Dataset\\\\kohli1.jpg')\n",
        "plt.imshow(original_image)"
      ]
    },
    {
      "cell_type": "code",
      "execution_count": null,
      "metadata": {
        "id": "xqpptRJvUkAL",
        "outputId": "fbeb2f02-a74b-4188-f107-13e2c774e61d"
      },
      "outputs": [
        {
          "data": {
            "text/plain": [
              "<matplotlib.image.AxesImage at 0x235ebcd1588>"
            ]
          },
          "execution_count": 27,
          "metadata": {},
          "output_type": "execute_result"
        },
        {
          "data": {
            "image/png": "[encoded data removed]",
            "text/plain": [
              "<Figure size 432x288 with 1 Axes>"
            ]
          },
          "metadata": {
            "needs_background": "light"
          },
          "output_type": "display_data"
        }
      ],
      "source": [
        "cropped_image = get_cropped_image_if_2_eyes('C:\\\\Users\\\\harik\\\\Downloads\\\\ML_Celebritiy_Classification_Project\\\\Original Data\\\\Virat Kohli Dataset\\\\kohli1.jpg')\n",
        "plt.imshow(cropped_image)"
      ]
    },
    {
      "cell_type": "code",
      "execution_count": null,
      "metadata": {
        "id": "eWrTjinbUkAL"
      },
      "outputs": [],
      "source": [
        "celebrity_file_names_dict = {}\n",
        "celebrity_file_names_dict['Messi'] = img_dir_messi\n",
        "celebrity_file_names_dict['Dhoni'] = img_dir_Dhoni\n",
        "celebrity_file_names_dict['Federer'] = img_dir_Federer\n",
        "celebrity_file_names_dict['Kohli'] = img_dir_Kohli"
      ]
    },
    {
      "cell_type": "code",
      "execution_count": null,
      "metadata": {
        "id": "a1oSiMqcUkAL",
        "outputId": "0f5569d1-8aa3-4716-f2da-dd5fd3cf109e"
      },
      "outputs": [
        {
          "data": {
            "text/plain": [
              "{'Messi': ['C:\\\\Users\\\\harik\\\\Downloads\\\\ML_Celebritiy_Classification_Project\\\\Original Data\\\\Messi Dataset\\\\.svn',\n",
              "  'C:\\\\Users\\\\harik\\\\Downloads\\\\ML_Celebritiy_Classification_Project\\\\Original Data\\\\Messi Dataset\\\\02453493f852c0efe8ff951dea5845c4.jpg',\n",
              "  'C:\\\\Users\\\\harik\\\\Downloads\\\\ML_Celebritiy_Classification_Project\\\\Original Data\\\\Messi Dataset\\\\10_MESSI_JUGADORS-WEB.jpg',\n",
              "  'C:\\\\Users\\\\harik\\\\Downloads\\\\ML_Celebritiy_Classification_Project\\\\Original Data\\\\Messi Dataset\\\\10_MESSI_JUGADORS-WEB.png',\n",
              "  'C:\\\\Users\\\\harik\\\\Downloads\\\\ML_Celebritiy_Classification_Project\\\\Original Data\\\\Messi Dataset\\\\1211643746.jpg.0.jpg',\n",
              "  'C:\\\\Users\\\\harik\\\\Downloads\\\\ML_Celebritiy_Classification_Project\\\\Original Data\\\\Messi Dataset\\\\136054219.jpg.0.jpg',\n",
              "  'C:\\\\Users\\\\harik\\\\Downloads\\\\ML_Celebritiy_Classification_Project\\\\Original Data\\\\Messi Dataset\\\\190703-lionel-messi.jpg',\n",
              "  'C:\\\\Users\\\\harik\\\\Downloads\\\\ML_Celebritiy_Classification_Project\\\\Original Data\\\\Messi Dataset\\\\20190804-The18-Image-Lionel-Messi-Speech-Camp-Nou-2019-1280x720.jpg',\n",
              "  'C:\\\\Users\\\\harik\\\\Downloads\\\\ML_Celebritiy_Classification_Project\\\\Original Data\\\\Messi Dataset\\\\26622.jpg',\n",
              "  'C:\\\\Users\\\\harik\\\\Downloads\\\\ML_Celebritiy_Classification_Project\\\\Original Data\\\\Messi Dataset\\\\27243622-0-image-m-13_1586991155251.jpg',\n",
              "  'C:\\\\Users\\\\harik\\\\Downloads\\\\ML_Celebritiy_Classification_Project\\\\Original Data\\\\Messi Dataset\\\\28003-1510231943.jpg',\n",
              "  'C:\\\\Users\\\\harik\\\\Downloads\\\\ML_Celebritiy_Classification_Project\\\\Original Data\\\\Messi Dataset\\\\28410198-8321609-image-a-96_1589497931974.jpg',\n",
              "  'C:\\\\Users\\\\harik\\\\Downloads\\\\ML_Celebritiy_Classification_Project\\\\Original Data\\\\Messi Dataset\\\\5bd946a6cdbadfc416e59db42422c06c.jpg',\n",
              "  'C:\\\\Users\\\\harik\\\\Downloads\\\\ML_Celebritiy_Classification_Project\\\\Original Data\\\\Messi Dataset\\\\5cb62e40230000c2006db3ac.jpg',\n",
              "  'C:\\\\Users\\\\harik\\\\Downloads\\\\ML_Celebritiy_Classification_Project\\\\Original Data\\\\Messi Dataset\\\\5de5fed30f25441e5823254c.jpg',\n",
              "  'C:\\\\Users\\\\harik\\\\Downloads\\\\ML_Celebritiy_Classification_Project\\\\Original Data\\\\Messi Dataset\\\\5e4bac9b3b62b77617608663.jfif',\n",
              "  'C:\\\\Users\\\\harik\\\\Downloads\\\\ML_Celebritiy_Classification_Project\\\\Original Data\\\\Messi Dataset\\\\636654404591000000-GTY-980548622.jpg',\n",
              "  'C:\\\\Users\\\\harik\\\\Downloads\\\\ML_Celebritiy_Classification_Project\\\\Original Data\\\\Messi Dataset\\\\7488bab50fd9441a43359ec299a8dad2.jpg',\n",
              "  'C:\\\\Users\\\\harik\\\\Downloads\\\\ML_Celebritiy_Classification_Project\\\\Original Data\\\\Messi Dataset\\\\838788-lionel-messi-pti.jpg',\n",
              "  'C:\\\\Users\\\\harik\\\\Downloads\\\\ML_Celebritiy_Classification_Project\\\\Original Data\\\\Messi Dataset\\\\85054-messi12.jfif',\n",
              "  'C:\\\\Users\\\\harik\\\\Downloads\\\\ML_Celebritiy_Classification_Project\\\\Original Data\\\\Messi Dataset\\\\8e28dca199d2c529e710f2fc7550fc85.jpg',\n",
              "  'C:\\\\Users\\\\harik\\\\Downloads\\\\ML_Celebritiy_Classification_Project\\\\Original Data\\\\Messi Dataset\\\\960.jpg',\n",
              "  'C:\\\\Users\\\\harik\\\\Downloads\\\\ML_Celebritiy_Classification_Project\\\\Original Data\\\\Messi Dataset\\\\a70652xy3tnbtsa7_1582098259.jpeg',\n",
              "  'C:\\\\Users\\\\harik\\\\Downloads\\\\ML_Celebritiy_Classification_Project\\\\Original Data\\\\Messi Dataset\\\\a8784d8ea286c3fbfef21201af1c1254.jpg',\n",
              "  'C:\\\\Users\\\\harik\\\\Downloads\\\\ML_Celebritiy_Classification_Project\\\\Original Data\\\\Messi Dataset\\\\avatar-leomessi.png',\n",
              "  'C:\\\\Users\\\\harik\\\\Downloads\\\\ML_Celebritiy_Classification_Project\\\\Original Data\\\\Messi Dataset\\\\bf7680a40cc24597a645b97fb80307ad500x500@2x.jpg',\n",
              "  'C:\\\\Users\\\\harik\\\\Downloads\\\\ML_Celebritiy_Classification_Project\\\\Original Data\\\\Messi Dataset\\\\crop.jfif',\n",
              "  'C:\\\\Users\\\\harik\\\\Downloads\\\\ML_Celebritiy_Classification_Project\\\\Original Data\\\\Messi Dataset\\\\DdaglCTVQAEtWO4.jpg',\n",
              "  'C:\\\\Users\\\\harik\\\\Downloads\\\\ML_Celebritiy_Classification_Project\\\\Original Data\\\\Messi Dataset\\\\de1e3ba2246c28ebc55bb01c9a0618e7.jpg',\n",
              "  'C:\\\\Users\\\\harik\\\\Downloads\\\\ML_Celebritiy_Classification_Project\\\\Original Data\\\\Messi Dataset\\\\download.jfif',\n",
              "  'C:\\\\Users\\\\harik\\\\Downloads\\\\ML_Celebritiy_Classification_Project\\\\Original Data\\\\Messi Dataset\\\\forbes-highest-paid-athletes-2019-00.jpg',\n",
              "  'C:\\\\Users\\\\harik\\\\Downloads\\\\ML_Celebritiy_Classification_Project\\\\Original Data\\\\Messi Dataset\\\\GettyImages-921766552_compress55.jpg',\n",
              "  'C:\\\\Users\\\\harik\\\\Downloads\\\\ML_Celebritiy_Classification_Project\\\\Original Data\\\\Messi Dataset\\\\hi-res-dd0ead86aa219346a8cc94c50c8a458d_crop_north.jpg',\n",
              "  'C:\\\\Users\\\\harik\\\\Downloads\\\\ML_Celebritiy_Classification_Project\\\\Original Data\\\\Messi Dataset\\\\https___wp-images.onefootball.com_wp-content_uploads_sites_10_2020_01_FC-Barcelona-v-RCD-Mallorca-La-Liga-1579183256.jpg',\n",
              "  'C:\\\\Users\\\\harik\\\\Downloads\\\\ML_Celebritiy_Classification_Project\\\\Original Data\\\\Messi Dataset\\\\images.jfif',\n",
              "  'C:\\\\Users\\\\harik\\\\Downloads\\\\ML_Celebritiy_Classification_Project\\\\Original Data\\\\Messi Dataset\\\\IMG_20200131_151915.jpg',\n",
              "  'C:\\\\Users\\\\harik\\\\Downloads\\\\ML_Celebritiy_Classification_Project\\\\Original Data\\\\Messi Dataset\\\\lionel-messi-1583899230.jpg',\n",
              "  'C:\\\\Users\\\\harik\\\\Downloads\\\\ML_Celebritiy_Classification_Project\\\\Original Data\\\\Messi Dataset\\\\lionel-messi-555732-1-402.jpg',\n",
              "  'C:\\\\Users\\\\harik\\\\Downloads\\\\ML_Celebritiy_Classification_Project\\\\Original Data\\\\Messi Dataset\\\\lionel-messi-argentina-nigeria-world-cup-russi-2018-26062018_93x42eje651jz426mmy39451.jpg',\n",
              "  'C:\\\\Users\\\\harik\\\\Downloads\\\\ML_Celebritiy_Classification_Project\\\\Original Data\\\\Messi Dataset\\\\lionel-messi-barcelona_s4mt4mvtjyy41gz5noeslzqjt.jpg',\n",
              "  'C:\\\\Users\\\\harik\\\\Downloads\\\\ML_Celebritiy_Classification_Project\\\\Original Data\\\\Messi Dataset\\\\Lionel-Messi-GettyImages-1160437265.jpg',\n",
              "  'C:\\\\Users\\\\harik\\\\Downloads\\\\ML_Celebritiy_Classification_Project\\\\Original Data\\\\Messi Dataset\\\\lionel-messi-in-november-2005_kmvg03y9e7621774f558bqqnl.jpg',\n",
              "  'C:\\\\Users\\\\harik\\\\Downloads\\\\ML_Celebritiy_Classification_Project\\\\Original Data\\\\Messi Dataset\\\\lionel-messi-net-worth-1.jpg',\n",
              "  'C:\\\\Users\\\\harik\\\\Downloads\\\\ML_Celebritiy_Classification_Project\\\\Original Data\\\\Messi Dataset\\\\Lionel-Messi-of-FC-Barcelona.jpg',\n",
              "  'C:\\\\Users\\\\harik\\\\Downloads\\\\ML_Celebritiy_Classification_Project\\\\Original Data\\\\Messi Dataset\\\\lionel-messi.jpg',\n",
              "  'C:\\\\Users\\\\harik\\\\Downloads\\\\ML_Celebritiy_Classification_Project\\\\Original Data\\\\Messi Dataset\\\\Lionel.Messi_.webp',\n",
              "  'C:\\\\Users\\\\harik\\\\Downloads\\\\ML_Celebritiy_Classification_Project\\\\Original Data\\\\Messi Dataset\\\\lionelmessi-cropped_1fa41kpn63pr81p55kcpiaiusr.jpg',\n",
              "  'C:\\\\Users\\\\harik\\\\Downloads\\\\ML_Celebritiy_Classification_Project\\\\Original Data\\\\Messi Dataset\\\\Lionel_Messi_20180626 (1).jpg',\n",
              "  'C:\\\\Users\\\\harik\\\\Downloads\\\\ML_Celebritiy_Classification_Project\\\\Original Data\\\\Messi Dataset\\\\Lionel_Messi_20180626.jpg',\n",
              "  'C:\\\\Users\\\\harik\\\\Downloads\\\\ML_Celebritiy_Classification_Project\\\\Original Data\\\\Messi Dataset\\\\maxresdefault.jpg',\n",
              "  'C:\\\\Users\\\\harik\\\\Downloads\\\\ML_Celebritiy_Classification_Project\\\\Original Data\\\\Messi Dataset\\\\messi-940x529.jpg',\n",
              "  'C:\\\\Users\\\\harik\\\\Downloads\\\\ML_Celebritiy_Classification_Project\\\\Original Data\\\\Messi Dataset\\\\MESSI-On-Field-6-4340-8x10.jpg',\n",
              "  'C:\\\\Users\\\\harik\\\\Downloads\\\\ML_Celebritiy_Classification_Project\\\\Original Data\\\\Messi Dataset\\\\mini_Messi-celebraci-gol.jpg',\n",
              "  'C:\\\\Users\\\\harik\\\\Downloads\\\\ML_Celebritiy_Classification_Project\\\\Original Data\\\\Messi Dataset\\\\MW-GZ677_messi__20181204153948_ZQ.jpg',\n",
              "  'C:\\\\Users\\\\harik\\\\Downloads\\\\ML_Celebritiy_Classification_Project\\\\Original Data\\\\Messi Dataset\\\\NINTCHDBPICT000517147454.jpg',\n",
              "  'C:\\\\Users\\\\harik\\\\Downloads\\\\ML_Celebritiy_Classification_Project\\\\Original Data\\\\Messi Dataset\\\\PA-43961167.jpg',\n",
              "  'C:\\\\Users\\\\harik\\\\Downloads\\\\ML_Celebritiy_Classification_Project\\\\Original Data\\\\Messi Dataset\\\\r370950_1600x800cc.jpg',\n",
              "  'C:\\\\Users\\\\harik\\\\Downloads\\\\ML_Celebritiy_Classification_Project\\\\Original Data\\\\Messi Dataset\\\\skysports-messi-lionel-barcelona_5006546.jpg',\n",
              "  'C:\\\\Users\\\\harik\\\\Downloads\\\\ML_Celebritiy_Classification_Project\\\\Original Data\\\\Messi Dataset\\\\wct4vk5iipilmbxx_1589950679.jpeg',\n",
              "  'C:\\\\Users\\\\harik\\\\Downloads\\\\ML_Celebritiy_Classification_Project\\\\Original Data\\\\Messi Dataset\\\\_111066400_messi.jpg'],\n",
              " 'Dhoni': ['C:\\\\Users\\\\harik\\\\Downloads\\\\ML_Celebritiy_Classification_Project\\\\Original Data\\\\MS Dhoni Dataset\\\\gettyimages-1002953612-612x612.jpg',\n",
              "  'C:\\\\Users\\\\harik\\\\Downloads\\\\ML_Celebritiy_Classification_Project\\\\Original Data\\\\MS Dhoni Dataset\\\\gettyimages-1083073496-612x612.jpg',\n",
              "  'C:\\\\Users\\\\harik\\\\Downloads\\\\ML_Celebritiy_Classification_Project\\\\Original Data\\\\MS Dhoni Dataset\\\\gettyimages-1091668492-612x612.jpg',\n",
              "  'C:\\\\Users\\\\harik\\\\Downloads\\\\ML_Celebritiy_Classification_Project\\\\Original Data\\\\MS Dhoni Dataset\\\\gettyimages-1093071462-612x612.jpg',\n",
              "  'C:\\\\Users\\\\harik\\\\Downloads\\\\ML_Celebritiy_Classification_Project\\\\Original Data\\\\MS Dhoni Dataset\\\\gettyimages-111434481-612x612.jpg',\n",
              "  'C:\\\\Users\\\\harik\\\\Downloads\\\\ML_Celebritiy_Classification_Project\\\\Original Data\\\\MS Dhoni Dataset\\\\gettyimages-111436918-612x612.jpg',\n",
              "  'C:\\\\Users\\\\harik\\\\Downloads\\\\ML_Celebritiy_Classification_Project\\\\Original Data\\\\MS Dhoni Dataset\\\\gettyimages-111487207-612x612.jpg',\n",
              "  'C:\\\\Users\\\\harik\\\\Downloads\\\\ML_Celebritiy_Classification_Project\\\\Original Data\\\\MS Dhoni Dataset\\\\gettyimages-111487840-612x612.jpg',\n",
              "  'C:\\\\Users\\\\harik\\\\Downloads\\\\ML_Celebritiy_Classification_Project\\\\Original Data\\\\MS Dhoni Dataset\\\\gettyimages-1124946488-612x612.jpg',\n",
              "  'C:\\\\Users\\\\harik\\\\Downloads\\\\ML_Celebritiy_Classification_Project\\\\Original Data\\\\MS Dhoni Dataset\\\\gettyimages-1127080747-612x612.jpg',\n",
              "  'C:\\\\Users\\\\harik\\\\Downloads\\\\ML_Celebritiy_Classification_Project\\\\Original Data\\\\MS Dhoni Dataset\\\\gettyimages-1127701244-612x612.jpg',\n",
              "  'C:\\\\Users\\\\harik\\\\Downloads\\\\ML_Celebritiy_Classification_Project\\\\Original Data\\\\MS Dhoni Dataset\\\\gettyimages-1147548909-612x612.jpg',\n",
              "  'C:\\\\Users\\\\harik\\\\Downloads\\\\ML_Celebritiy_Classification_Project\\\\Original Data\\\\MS Dhoni Dataset\\\\gettyimages-1147548954-612x612.jpg',\n",
              "  'C:\\\\Users\\\\harik\\\\Downloads\\\\ML_Celebritiy_Classification_Project\\\\Original Data\\\\MS Dhoni Dataset\\\\gettyimages-1147573685-612x612.jpg',\n",
              "  'C:\\\\Users\\\\harik\\\\Downloads\\\\ML_Celebritiy_Classification_Project\\\\Original Data\\\\MS Dhoni Dataset\\\\gettyimages-1148242503-612x612.jpg',\n",
              "  'C:\\\\Users\\\\harik\\\\Downloads\\\\ML_Celebritiy_Classification_Project\\\\Original Data\\\\MS Dhoni Dataset\\\\gettyimages-1148518155-612x612.jpg',\n",
              "  'C:\\\\Users\\\\harik\\\\Downloads\\\\ML_Celebritiy_Classification_Project\\\\Original Data\\\\MS Dhoni Dataset\\\\gettyimages-1148622193-612x612.jpg',\n",
              "  'C:\\\\Users\\\\harik\\\\Downloads\\\\ML_Celebritiy_Classification_Project\\\\Original Data\\\\MS Dhoni Dataset\\\\gettyimages-1148625518-612x612.jpg',\n",
              "  'C:\\\\Users\\\\harik\\\\Downloads\\\\ML_Celebritiy_Classification_Project\\\\Original Data\\\\MS Dhoni Dataset\\\\gettyimages-1148656884-612x612.jpg',\n",
              "  'C:\\\\Users\\\\harik\\\\Downloads\\\\ML_Celebritiy_Classification_Project\\\\Original Data\\\\MS Dhoni Dataset\\\\gettyimages-1151430063-612x612.jpg',\n",
              "  'C:\\\\Users\\\\harik\\\\Downloads\\\\ML_Celebritiy_Classification_Project\\\\Original Data\\\\MS Dhoni Dataset\\\\gettyimages-1153291813-612x612.jpg',\n",
              "  'C:\\\\Users\\\\harik\\\\Downloads\\\\ML_Celebritiy_Classification_Project\\\\Original Data\\\\MS Dhoni Dataset\\\\gettyimages-1156293762-612x612.jpg',\n",
              "  'C:\\\\Users\\\\harik\\\\Downloads\\\\ML_Celebritiy_Classification_Project\\\\Original Data\\\\MS Dhoni Dataset\\\\gettyimages-1159014384-612x612.jpg',\n",
              "  'C:\\\\Users\\\\harik\\\\Downloads\\\\ML_Celebritiy_Classification_Project\\\\Original Data\\\\MS Dhoni Dataset\\\\gettyimages-1160748659-612x612.jpg',\n",
              "  'C:\\\\Users\\\\harik\\\\Downloads\\\\ML_Celebritiy_Classification_Project\\\\Original Data\\\\MS Dhoni Dataset\\\\gettyimages-1160748663-612x612.jpg',\n",
              "  'C:\\\\Users\\\\harik\\\\Downloads\\\\ML_Celebritiy_Classification_Project\\\\Original Data\\\\MS Dhoni Dataset\\\\gettyimages-1161173068-612x612.jpg',\n",
              "  'C:\\\\Users\\\\harik\\\\Downloads\\\\ML_Celebritiy_Classification_Project\\\\Original Data\\\\MS Dhoni Dataset\\\\gettyimages-1161173069-612x612.jpg',\n",
              "  'C:\\\\Users\\\\harik\\\\Downloads\\\\ML_Celebritiy_Classification_Project\\\\Original Data\\\\MS Dhoni Dataset\\\\gettyimages-1161189487-612x612.jpg',\n",
              "  'C:\\\\Users\\\\harik\\\\Downloads\\\\ML_Celebritiy_Classification_Project\\\\Original Data\\\\MS Dhoni Dataset\\\\gettyimages-1161194037-612x612.jpg',\n",
              "  'C:\\\\Users\\\\harik\\\\Downloads\\\\ML_Celebritiy_Classification_Project\\\\Original Data\\\\MS Dhoni Dataset\\\\gettyimages-1161194042-612x612.jpg',\n",
              "  'C:\\\\Users\\\\harik\\\\Downloads\\\\ML_Celebritiy_Classification_Project\\\\Original Data\\\\MS Dhoni Dataset\\\\gettyimages-1185044814-612x612.jpg',\n",
              "  'C:\\\\Users\\\\harik\\\\Downloads\\\\ML_Celebritiy_Classification_Project\\\\Original Data\\\\MS Dhoni Dataset\\\\gettyimages-127960603-612x612.jpg',\n",
              "  'C:\\\\Users\\\\harik\\\\Downloads\\\\ML_Celebritiy_Classification_Project\\\\Original Data\\\\MS Dhoni Dataset\\\\gettyimages-1347259575-612x612.jpg',\n",
              "  'C:\\\\Users\\\\harik\\\\Downloads\\\\ML_Celebritiy_Classification_Project\\\\Original Data\\\\MS Dhoni Dataset\\\\gettyimages-1348504658-612x612.jpg',\n",
              "  'C:\\\\Users\\\\harik\\\\Downloads\\\\ML_Celebritiy_Classification_Project\\\\Original Data\\\\MS Dhoni Dataset\\\\gettyimages-171229788-612x612.jpg',\n",
              "  'C:\\\\Users\\\\harik\\\\Downloads\\\\ML_Celebritiy_Classification_Project\\\\Original Data\\\\MS Dhoni Dataset\\\\gettyimages-463104414-612x612.jpg',\n",
              "  'C:\\\\Users\\\\harik\\\\Downloads\\\\ML_Celebritiy_Classification_Project\\\\Original Data\\\\MS Dhoni Dataset\\\\gettyimages-518364026-612x612.jpg',\n",
              "  'C:\\\\Users\\\\harik\\\\Downloads\\\\ML_Celebritiy_Classification_Project\\\\Original Data\\\\MS Dhoni Dataset\\\\gettyimages-76982368-612x612.jpg',\n",
              "  'C:\\\\Users\\\\harik\\\\Downloads\\\\ML_Celebritiy_Classification_Project\\\\Original Data\\\\MS Dhoni Dataset\\\\gettyimages-76990161-612x612.jpg',\n",
              "  'C:\\\\Users\\\\harik\\\\Downloads\\\\ML_Celebritiy_Classification_Project\\\\Original Data\\\\MS Dhoni Dataset\\\\gettyimages-992950492-612x612.jpg',\n",
              "  'C:\\\\Users\\\\harik\\\\Downloads\\\\ML_Celebritiy_Classification_Project\\\\Original Data\\\\MS Dhoni Dataset\\\\teahub.io-dhoni-csk-hd-wallpapers-2869625.png'],\n",
              " 'Federer': ['C:\\\\Users\\\\harik\\\\Downloads\\\\ML_Celebritiy_Classification_Project\\\\Original Data\\\\Roger Federer Dataset\\\\.svn',\n",
              "  'C:\\\\Users\\\\harik\\\\Downloads\\\\ML_Celebritiy_Classification_Project\\\\Original Data\\\\Roger Federer Dataset\\\\07548250.jpg',\n",
              "  'C:\\\\Users\\\\harik\\\\Downloads\\\\ML_Celebritiy_Classification_Project\\\\Original Data\\\\Roger Federer Dataset\\\\106557207-1590765475629gettyimages-1202050340.jpeg',\n",
              "  'C:\\\\Users\\\\harik\\\\Downloads\\\\ML_Celebritiy_Classification_Project\\\\Original Data\\\\Roger Federer Dataset\\\\1256138.jpg',\n",
              "  'C:\\\\Users\\\\harik\\\\Downloads\\\\ML_Celebritiy_Classification_Project\\\\Original Data\\\\Roger Federer Dataset\\\\1517538862724.jpg',\n",
              "  'C:\\\\Users\\\\harik\\\\Downloads\\\\ML_Celebritiy_Classification_Project\\\\Original Data\\\\Roger Federer Dataset\\\\2012-07-08T174237Z_942697397_TB3E8781D6VJH_RTRMADP_3_TENNIS-WIMBLEDON.jpg',\n",
              "  'C:\\\\Users\\\\harik\\\\Downloads\\\\ML_Celebritiy_Classification_Project\\\\Original Data\\\\Roger Federer Dataset\\\\20170429_Match_for_Africa_149.jpg',\n",
              "  'C:\\\\Users\\\\harik\\\\Downloads\\\\ML_Celebritiy_Classification_Project\\\\Original Data\\\\Roger Federer Dataset\\\\20180816161600_139.jpg',\n",
              "  'C:\\\\Users\\\\harik\\\\Downloads\\\\ML_Celebritiy_Classification_Project\\\\Original Data\\\\Roger Federer Dataset\\\\51f465e41dbadc549abdd64ba7ee166d.jpg',\n",
              "  'C:\\\\Users\\\\harik\\\\Downloads\\\\ML_Celebritiy_Classification_Project\\\\Original Data\\\\Roger Federer Dataset\\\\55d4aba6a570417280c790d119c91ee7_18.jpg',\n",
              "  'C:\\\\Users\\\\harik\\\\Downloads\\\\ML_Celebritiy_Classification_Project\\\\Original Data\\\\Roger Federer Dataset\\\\5c6becd02628985d2a2ee2a2.jfif',\n",
              "  'C:\\\\Users\\\\harik\\\\Downloads\\\\ML_Celebritiy_Classification_Project\\\\Original Data\\\\Roger Federer Dataset\\\\643791-641790-roger-federer-aus-open-2018-afp.jpg',\n",
              "  'C:\\\\Users\\\\harik\\\\Downloads\\\\ML_Celebritiy_Classification_Project\\\\Original Data\\\\Roger Federer Dataset\\\\833491-jzwrfgakxz-1491130217.jpg',\n",
              "  'C:\\\\Users\\\\harik\\\\Downloads\\\\ML_Celebritiy_Classification_Project\\\\Original Data\\\\Roger Federer Dataset\\\\88m_ilrAGFA.jpg',\n",
              "  'C:\\\\Users\\\\harik\\\\Downloads\\\\ML_Celebritiy_Classification_Project\\\\Original Data\\\\Roger Federer Dataset\\\\901027-715352-692111-661354-roger-federer-indian-wells-2018-afp-2.jpg',\n",
              "  'C:\\\\Users\\\\harik\\\\Downloads\\\\ML_Celebritiy_Classification_Project\\\\Original Data\\\\Roger Federer Dataset\\\\becker-i-would-like-to-see-roger-federer-nadal-and-djokovic-being-beaten-.jpg',\n",
              "  'C:\\\\Users\\\\harik\\\\Downloads\\\\ML_Celebritiy_Classification_Project\\\\Original Data\\\\Roger Federer Dataset\\\\bill-gates-playing-alongside-roger-federer-is-always-a-thrill.jpg',\n",
              "  'C:\\\\Users\\\\harik\\\\Downloads\\\\ML_Celebritiy_Classification_Project\\\\Original Data\\\\Roger Federer Dataset\\\\ca717e520880bf40c28015a3d33395db.jfif',\n",
              "  'C:\\\\Users\\\\harik\\\\Downloads\\\\ML_Celebritiy_Classification_Project\\\\Original Data\\\\Roger Federer Dataset\\\\derivative16X91578938868121.jpg',\n",
              "  'C:\\\\Users\\\\harik\\\\Downloads\\\\ML_Celebritiy_Classification_Project\\\\Original Data\\\\Roger Federer Dataset\\\\download.jfif',\n",
              "  'C:\\\\Users\\\\harik\\\\Downloads\\\\ML_Celebritiy_Classification_Project\\\\Original Data\\\\Roger Federer Dataset\\\\ed9602a9fb1ed29e817aa5cf91bd1fe7 (1).jpg',\n",
              "  'C:\\\\Users\\\\harik\\\\Downloads\\\\ML_Celebritiy_Classification_Project\\\\Original Data\\\\Roger Federer Dataset\\\\ed9602a9fb1ed29e817aa5cf91bd1fe7.jpg',\n",
              "  'C:\\\\Users\\\\harik\\\\Downloads\\\\ML_Celebritiy_Classification_Project\\\\Original Data\\\\Roger Federer Dataset\\\\ertas-roger-federer-search_rfederer_16tl_0569.webp',\n",
              "  'C:\\\\Users\\\\harik\\\\Downloads\\\\ML_Celebritiy_Classification_Project\\\\Original Data\\\\Roger Federer Dataset\\\\federer-us-open-2019-press-conference.jpg',\n",
              "  'C:\\\\Users\\\\harik\\\\Downloads\\\\ML_Celebritiy_Classification_Project\\\\Original Data\\\\Roger Federer Dataset\\\\Federer-US-Open-847483.jpg',\n",
              "  'C:\\\\Users\\\\harik\\\\Downloads\\\\ML_Celebritiy_Classification_Project\\\\Original Data\\\\Roger Federer Dataset\\\\FEDERER-WIMBLEDON-08072019-18787.jpg',\n",
              "  'C:\\\\Users\\\\harik\\\\Downloads\\\\ML_Celebritiy_Classification_Project\\\\Original Data\\\\Roger Federer Dataset\\\\federer-wimbledon.jpg',\n",
              "  'C:\\\\Users\\\\harik\\\\Downloads\\\\ML_Celebritiy_Classification_Project\\\\Original Data\\\\Roger Federer Dataset\\\\federer-_660_073012091350.jpg',\n",
              "  'C:\\\\Users\\\\harik\\\\Downloads\\\\ML_Celebritiy_Classification_Project\\\\Original Data\\\\Roger Federer Dataset\\\\federerkohli-770x433.webp',\n",
              "  'C:\\\\Users\\\\harik\\\\Downloads\\\\ML_Celebritiy_Classification_Project\\\\Original Data\\\\Roger Federer Dataset\\\\FEDERER_16b9e25e144_large.jpg',\n",
              "  'C:\\\\Users\\\\harik\\\\Downloads\\\\ML_Celebritiy_Classification_Project\\\\Original Data\\\\Roger Federer Dataset\\\\Federer_640 (1).jpg',\n",
              "  'C:\\\\Users\\\\harik\\\\Downloads\\\\ML_Celebritiy_Classification_Project\\\\Original Data\\\\Roger Federer Dataset\\\\Federer_640.jpg',\n",
              "  'C:\\\\Users\\\\harik\\\\Downloads\\\\ML_Celebritiy_Classification_Project\\\\Original Data\\\\Roger Federer Dataset\\\\federer_m.jpg',\n",
              "  'C:\\\\Users\\\\harik\\\\Downloads\\\\ML_Celebritiy_Classification_Project\\\\Original Data\\\\Roger Federer Dataset\\\\gettyimages-1089315298 (1).jpg',\n",
              "  'C:\\\\Users\\\\harik\\\\Downloads\\\\ML_Celebritiy_Classification_Project\\\\Original Data\\\\Roger Federer Dataset\\\\gettyimages-1089315298.jpg',\n",
              "  'C:\\\\Users\\\\harik\\\\Downloads\\\\ML_Celebritiy_Classification_Project\\\\Original Data\\\\Roger Federer Dataset\\\\GettyImages-1151444330.jpg',\n",
              "  'C:\\\\Users\\\\harik\\\\Downloads\\\\ML_Celebritiy_Classification_Project\\\\Original Data\\\\Roger Federer Dataset\\\\GettyImages-1161653186.jpg',\n",
              "  'C:\\\\Users\\\\harik\\\\Downloads\\\\ML_Celebritiy_Classification_Project\\\\Original Data\\\\Roger Federer Dataset\\\\hi-res-c8bfe70f4d74e4c385df0c29578be1f0_crop_north-1-1600x1067.jpg',\n",
              "  'C:\\\\Users\\\\harik\\\\Downloads\\\\ML_Celebritiy_Classification_Project\\\\Original Data\\\\Roger Federer Dataset\\\\how-roger-federer-rafael-nadal-and-novak-djokovic-changed-tennis-history-like-no-other.jpg',\n",
              "  'C:\\\\Users\\\\harik\\\\Downloads\\\\ML_Celebritiy_Classification_Project\\\\Original Data\\\\Roger Federer Dataset\\\\maxresdefault.jpg',\n",
              "  'C:\\\\Users\\\\harik\\\\Downloads\\\\ML_Celebritiy_Classification_Project\\\\Original Data\\\\Roger Federer Dataset\\\\NINTCHDBPICT000561000009-e1582196702724-1-1600x1412.jpg',\n",
              "  'C:\\\\Users\\\\harik\\\\Downloads\\\\ML_Celebritiy_Classification_Project\\\\Original Data\\\\Roger Federer Dataset\\\\pr2rudso_roger-federer-afp_625x300_20_January_20.webp',\n",
              "  'C:\\\\Users\\\\harik\\\\Downloads\\\\ML_Celebritiy_Classification_Project\\\\Original Data\\\\Roger Federer Dataset\\\\Roger-Federer (1).jpg',\n",
              "  'C:\\\\Users\\\\harik\\\\Downloads\\\\ML_Celebritiy_Classification_Project\\\\Original Data\\\\Roger Federer Dataset\\\\Roger-Federer-2012.jpg',\n",
              "  'C:\\\\Users\\\\harik\\\\Downloads\\\\ML_Celebritiy_Classification_Project\\\\Original Data\\\\Roger Federer Dataset\\\\Roger-Federer-2017-Wimbledon-trophy-PA.jpg',\n",
              "  'C:\\\\Users\\\\harik\\\\Downloads\\\\ML_Celebritiy_Classification_Project\\\\Original Data\\\\Roger Federer Dataset\\\\roger-federer-answers-questions-during-a-press-conference-ahead-of-the-australian-open-2018-ap-1515940642.jpg',\n",
              "  'C:\\\\Users\\\\harik\\\\Downloads\\\\ML_Celebritiy_Classification_Project\\\\Original Data\\\\Roger Federer Dataset\\\\Roger-Federer-Full-Press-conference-after-S-Finals-loss.jpg',\n",
              "  'C:\\\\Users\\\\harik\\\\Downloads\\\\ML_Celebritiy_Classification_Project\\\\Original Data\\\\Roger Federer Dataset\\\\Roger-Federer-on-clay-PA-752x428.jpg',\n",
              "  'C:\\\\Users\\\\harik\\\\Downloads\\\\ML_Celebritiy_Classification_Project\\\\Original Data\\\\Roger Federer Dataset\\\\roger-federer-s-daughters-myla-rose-and-charlene-riva-turn-9.jpg',\n",
              "  'C:\\\\Users\\\\harik\\\\Downloads\\\\ML_Celebritiy_Classification_Project\\\\Original Data\\\\Roger Federer Dataset\\\\Roger-Federer-wife-Mirka-Federer-1009792-1280x720.jpg',\n",
              "  'C:\\\\Users\\\\harik\\\\Downloads\\\\ML_Celebritiy_Classification_Project\\\\Original Data\\\\Roger Federer Dataset\\\\roger-federer-wimbledon.jpg',\n",
              "  'C:\\\\Users\\\\harik\\\\Downloads\\\\ML_Celebritiy_Classification_Project\\\\Original Data\\\\Roger Federer Dataset\\\\roger-federer.jpg',\n",
              "  'C:\\\\Users\\\\harik\\\\Downloads\\\\ML_Celebritiy_Classification_Project\\\\Original Data\\\\Roger Federer Dataset\\\\Roger-Federer.webp',\n",
              "  'C:\\\\Users\\\\harik\\\\Downloads\\\\ML_Celebritiy_Classification_Project\\\\Original Data\\\\Roger Federer Dataset\\\\rogerfederer_perfect_82463094_646872489387563_6528719341074753867_n (1).jpg',\n",
              "  'C:\\\\Users\\\\harik\\\\Downloads\\\\ML_Celebritiy_Classification_Project\\\\Original Data\\\\Roger Federer Dataset\\\\rogerfederer_perfect_82463094_646872489387563_6528719341074753867_n.jpg',\n",
              "  'C:\\\\Users\\\\harik\\\\Downloads\\\\ML_Celebritiy_Classification_Project\\\\Original Data\\\\Roger Federer Dataset\\\\Roger_Federer_wikimedia_cc.jpg',\n",
              "  'C:\\\\Users\\\\harik\\\\Downloads\\\\ML_Celebritiy_Classification_Project\\\\Original Data\\\\Roger Federer Dataset\\\\shPDTYko91c.jpg',\n",
              "  'C:\\\\Users\\\\harik\\\\Downloads\\\\ML_Celebritiy_Classification_Project\\\\Original Data\\\\Roger Federer Dataset\\\\skysports-roger-federer-tennis_4762607-1600x900-1.jpg',\n",
              "  'C:\\\\Users\\\\harik\\\\Downloads\\\\ML_Celebritiy_Classification_Project\\\\Original Data\\\\Roger Federer Dataset\\\\sp27-Roger-Federer.jpg'],\n",
              " 'Kohli': ['C:\\\\Users\\\\harik\\\\Downloads\\\\ML_Celebritiy_Classification_Project\\\\Original Data\\\\Virat Kohli Dataset\\\\.svn',\n",
              "  'C:\\\\Users\\\\harik\\\\Downloads\\\\ML_Celebritiy_Classification_Project\\\\Original Data\\\\Virat Kohli Dataset\\\\02fa06cf94.jpg',\n",
              "  'C:\\\\Users\\\\harik\\\\Downloads\\\\ML_Celebritiy_Classification_Project\\\\Original Data\\\\Virat Kohli Dataset\\\\05b9bac90a.jpg',\n",
              "  'C:\\\\Users\\\\harik\\\\Downloads\\\\ML_Celebritiy_Classification_Project\\\\Original Data\\\\Virat Kohli Dataset\\\\088db66e0b.jpg',\n",
              "  'C:\\\\Users\\\\harik\\\\Downloads\\\\ML_Celebritiy_Classification_Project\\\\Original Data\\\\Virat Kohli Dataset\\\\0b43460429.jpg',\n",
              "  'C:\\\\Users\\\\harik\\\\Downloads\\\\ML_Celebritiy_Classification_Project\\\\Original Data\\\\Virat Kohli Dataset\\\\0b53cce8c6.jpg',\n",
              "  'C:\\\\Users\\\\harik\\\\Downloads\\\\ML_Celebritiy_Classification_Project\\\\Original Data\\\\Virat Kohli Dataset\\\\0eb2230fbf.jpg',\n",
              "  'C:\\\\Users\\\\harik\\\\Downloads\\\\ML_Celebritiy_Classification_Project\\\\Original Data\\\\Virat Kohli Dataset\\\\1146943f73.jpg',\n",
              "  'C:\\\\Users\\\\harik\\\\Downloads\\\\ML_Celebritiy_Classification_Project\\\\Original Data\\\\Virat Kohli Dataset\\\\132a62a742.jpg',\n",
              "  'C:\\\\Users\\\\harik\\\\Downloads\\\\ML_Celebritiy_Classification_Project\\\\Original Data\\\\Virat Kohli Dataset\\\\150fc612d2.jpg',\n",
              "  'C:\\\\Users\\\\harik\\\\Downloads\\\\ML_Celebritiy_Classification_Project\\\\Original Data\\\\Virat Kohli Dataset\\\\1fee075645.jpg',\n",
              "  'C:\\\\Users\\\\harik\\\\Downloads\\\\ML_Celebritiy_Classification_Project\\\\Original Data\\\\Virat Kohli Dataset\\\\2018439965.jpg',\n",
              "  'C:\\\\Users\\\\harik\\\\Downloads\\\\ML_Celebritiy_Classification_Project\\\\Original Data\\\\Virat Kohli Dataset\\\\266f9eacf3.jpg',\n",
              "  'C:\\\\Users\\\\harik\\\\Downloads\\\\ML_Celebritiy_Classification_Project\\\\Original Data\\\\Virat Kohli Dataset\\\\27ad99a806.jpg',\n",
              "  'C:\\\\Users\\\\harik\\\\Downloads\\\\ML_Celebritiy_Classification_Project\\\\Original Data\\\\Virat Kohli Dataset\\\\28e155755b.jpg',\n",
              "  'C:\\\\Users\\\\harik\\\\Downloads\\\\ML_Celebritiy_Classification_Project\\\\Original Data\\\\Virat Kohli Dataset\\\\2c06edccfb.jpg',\n",
              "  'C:\\\\Users\\\\harik\\\\Downloads\\\\ML_Celebritiy_Classification_Project\\\\Original Data\\\\Virat Kohli Dataset\\\\357f957b72.jpg',\n",
              "  'C:\\\\Users\\\\harik\\\\Downloads\\\\ML_Celebritiy_Classification_Project\\\\Original Data\\\\Virat Kohli Dataset\\\\37d3f53e84.jpg',\n",
              "  'C:\\\\Users\\\\harik\\\\Downloads\\\\ML_Celebritiy_Classification_Project\\\\Original Data\\\\Virat Kohli Dataset\\\\3846bffc28.jpg',\n",
              "  'C:\\\\Users\\\\harik\\\\Downloads\\\\ML_Celebritiy_Classification_Project\\\\Original Data\\\\Virat Kohli Dataset\\\\39c2bd6fc9.jpg',\n",
              "  'C:\\\\Users\\\\harik\\\\Downloads\\\\ML_Celebritiy_Classification_Project\\\\Original Data\\\\Virat Kohli Dataset\\\\39e1dd840f.jpg',\n",
              "  'C:\\\\Users\\\\harik\\\\Downloads\\\\ML_Celebritiy_Classification_Project\\\\Original Data\\\\Virat Kohli Dataset\\\\3e6d62bc8e.jpg',\n",
              "  'C:\\\\Users\\\\harik\\\\Downloads\\\\ML_Celebritiy_Classification_Project\\\\Original Data\\\\Virat Kohli Dataset\\\\3f5fd4fead.jpg',\n",
              "  'C:\\\\Users\\\\harik\\\\Downloads\\\\ML_Celebritiy_Classification_Project\\\\Original Data\\\\Virat Kohli Dataset\\\\41de91b30f.jpg',\n",
              "  'C:\\\\Users\\\\harik\\\\Downloads\\\\ML_Celebritiy_Classification_Project\\\\Original Data\\\\Virat Kohli Dataset\\\\47f53ee402.jpg',\n",
              "  'C:\\\\Users\\\\harik\\\\Downloads\\\\ML_Celebritiy_Classification_Project\\\\Original Data\\\\Virat Kohli Dataset\\\\49f7355f97.jpg',\n",
              "  'C:\\\\Users\\\\harik\\\\Downloads\\\\ML_Celebritiy_Classification_Project\\\\Original Data\\\\Virat Kohli Dataset\\\\4cbef36ff6.jpg',\n",
              "  'C:\\\\Users\\\\harik\\\\Downloads\\\\ML_Celebritiy_Classification_Project\\\\Original Data\\\\Virat Kohli Dataset\\\\5181ba2b71.jpg',\n",
              "  'C:\\\\Users\\\\harik\\\\Downloads\\\\ML_Celebritiy_Classification_Project\\\\Original Data\\\\Virat Kohli Dataset\\\\52345a338c.jpg',\n",
              "  'C:\\\\Users\\\\harik\\\\Downloads\\\\ML_Celebritiy_Classification_Project\\\\Original Data\\\\Virat Kohli Dataset\\\\549e5c755e.jpg',\n",
              "  'C:\\\\Users\\\\harik\\\\Downloads\\\\ML_Celebritiy_Classification_Project\\\\Original Data\\\\Virat Kohli Dataset\\\\55620911db.jpg',\n",
              "  'C:\\\\Users\\\\harik\\\\Downloads\\\\ML_Celebritiy_Classification_Project\\\\Original Data\\\\Virat Kohli Dataset\\\\59a89ee258.jpg',\n",
              "  'C:\\\\Users\\\\harik\\\\Downloads\\\\ML_Celebritiy_Classification_Project\\\\Original Data\\\\Virat Kohli Dataset\\\\5a3384f779.jpg',\n",
              "  'C:\\\\Users\\\\harik\\\\Downloads\\\\ML_Celebritiy_Classification_Project\\\\Original Data\\\\Virat Kohli Dataset\\\\5e51e39db9.jpg',\n",
              "  'C:\\\\Users\\\\harik\\\\Downloads\\\\ML_Celebritiy_Classification_Project\\\\Original Data\\\\Virat Kohli Dataset\\\\631e46db26.jpg',\n",
              "  'C:\\\\Users\\\\harik\\\\Downloads\\\\ML_Celebritiy_Classification_Project\\\\Original Data\\\\Virat Kohli Dataset\\\\632b7bb5ea.jpg',\n",
              "  'C:\\\\Users\\\\harik\\\\Downloads\\\\ML_Celebritiy_Classification_Project\\\\Original Data\\\\Virat Kohli Dataset\\\\644558382a.jpg',\n",
              "  'C:\\\\Users\\\\harik\\\\Downloads\\\\ML_Celebritiy_Classification_Project\\\\Original Data\\\\Virat Kohli Dataset\\\\688be3f972.jpg',\n",
              "  'C:\\\\Users\\\\harik\\\\Downloads\\\\ML_Celebritiy_Classification_Project\\\\Original Data\\\\Virat Kohli Dataset\\\\6a1a57040d.jpg',\n",
              "  'C:\\\\Users\\\\harik\\\\Downloads\\\\ML_Celebritiy_Classification_Project\\\\Original Data\\\\Virat Kohli Dataset\\\\6adbc1218c.jpg',\n",
              "  'C:\\\\Users\\\\harik\\\\Downloads\\\\ML_Celebritiy_Classification_Project\\\\Original Data\\\\Virat Kohli Dataset\\\\6ca67cbf33.jpg',\n",
              "  'C:\\\\Users\\\\harik\\\\Downloads\\\\ML_Celebritiy_Classification_Project\\\\Original Data\\\\Virat Kohli Dataset\\\\6fb5b64053.jpg',\n",
              "  'C:\\\\Users\\\\harik\\\\Downloads\\\\ML_Celebritiy_Classification_Project\\\\Original Data\\\\Virat Kohli Dataset\\\\71ed3d75ae.jpg',\n",
              "  'C:\\\\Users\\\\harik\\\\Downloads\\\\ML_Celebritiy_Classification_Project\\\\Original Data\\\\Virat Kohli Dataset\\\\76a06a6ec1.jpg',\n",
              "  'C:\\\\Users\\\\harik\\\\Downloads\\\\ML_Celebritiy_Classification_Project\\\\Original Data\\\\Virat Kohli Dataset\\\\7953108375.jpg',\n",
              "  'C:\\\\Users\\\\harik\\\\Downloads\\\\ML_Celebritiy_Classification_Project\\\\Original Data\\\\Virat Kohli Dataset\\\\7e224dbc5c.jpg',\n",
              "  'C:\\\\Users\\\\harik\\\\Downloads\\\\ML_Celebritiy_Classification_Project\\\\Original Data\\\\Virat Kohli Dataset\\\\7fde5779f6.jpg',\n",
              "  'C:\\\\Users\\\\harik\\\\Downloads\\\\ML_Celebritiy_Classification_Project\\\\Original Data\\\\Virat Kohli Dataset\\\\80b6d56dca.jpg',\n",
              "  'C:\\\\Users\\\\harik\\\\Downloads\\\\ML_Celebritiy_Classification_Project\\\\Original Data\\\\Virat Kohli Dataset\\\\83cf04fd82.jpg',\n",
              "  'C:\\\\Users\\\\harik\\\\Downloads\\\\ML_Celebritiy_Classification_Project\\\\Original Data\\\\Virat Kohli Dataset\\\\83f9de72c1.jpg',\n",
              "  'C:\\\\Users\\\\harik\\\\Downloads\\\\ML_Celebritiy_Classification_Project\\\\Original Data\\\\Virat Kohli Dataset\\\\84b8ff940f.jpg',\n",
              "  'C:\\\\Users\\\\harik\\\\Downloads\\\\ML_Celebritiy_Classification_Project\\\\Original Data\\\\Virat Kohli Dataset\\\\84d7142d38.jpg',\n",
              "  'C:\\\\Users\\\\harik\\\\Downloads\\\\ML_Celebritiy_Classification_Project\\\\Original Data\\\\Virat Kohli Dataset\\\\85420dacb0.jpg',\n",
              "  'C:\\\\Users\\\\harik\\\\Downloads\\\\ML_Celebritiy_Classification_Project\\\\Original Data\\\\Virat Kohli Dataset\\\\877f7e3ca1.jpg',\n",
              "  'C:\\\\Users\\\\harik\\\\Downloads\\\\ML_Celebritiy_Classification_Project\\\\Original Data\\\\Virat Kohli Dataset\\\\8816565b00.jpg',\n",
              "  'C:\\\\Users\\\\harik\\\\Downloads\\\\ML_Celebritiy_Classification_Project\\\\Original Data\\\\Virat Kohli Dataset\\\\90217af76e.jpg',\n",
              "  'C:\\\\Users\\\\harik\\\\Downloads\\\\ML_Celebritiy_Classification_Project\\\\Original Data\\\\Virat Kohli Dataset\\\\924c3e8a40.jpg',\n",
              "  'C:\\\\Users\\\\harik\\\\Downloads\\\\ML_Celebritiy_Classification_Project\\\\Original Data\\\\Virat Kohli Dataset\\\\9411cc8728.jpg',\n",
              "  'C:\\\\Users\\\\harik\\\\Downloads\\\\ML_Celebritiy_Classification_Project\\\\Original Data\\\\Virat Kohli Dataset\\\\95f4fc9fdd.jpg',\n",
              "  'C:\\\\Users\\\\harik\\\\Downloads\\\\ML_Celebritiy_Classification_Project\\\\Original Data\\\\Virat Kohli Dataset\\\\97f960062f.jpg',\n",
              "  'C:\\\\Users\\\\harik\\\\Downloads\\\\ML_Celebritiy_Classification_Project\\\\Original Data\\\\Virat Kohli Dataset\\\\9a7668efc5.jpg',\n",
              "  'C:\\\\Users\\\\harik\\\\Downloads\\\\ML_Celebritiy_Classification_Project\\\\Original Data\\\\Virat Kohli Dataset\\\\9bb09002ef.jpg',\n",
              "  'C:\\\\Users\\\\harik\\\\Downloads\\\\ML_Celebritiy_Classification_Project\\\\Original Data\\\\Virat Kohli Dataset\\\\9c2340c897.jpg',\n",
              "  'C:\\\\Users\\\\harik\\\\Downloads\\\\ML_Celebritiy_Classification_Project\\\\Original Data\\\\Virat Kohli Dataset\\\\9c64bc0211.jpg',\n",
              "  'C:\\\\Users\\\\harik\\\\Downloads\\\\ML_Celebritiy_Classification_Project\\\\Original Data\\\\Virat Kohli Dataset\\\\9e308996ca.jpg',\n",
              "  'C:\\\\Users\\\\harik\\\\Downloads\\\\ML_Celebritiy_Classification_Project\\\\Original Data\\\\Virat Kohli Dataset\\\\9e30af3e8d.jpg',\n",
              "  'C:\\\\Users\\\\harik\\\\Downloads\\\\ML_Celebritiy_Classification_Project\\\\Original Data\\\\Virat Kohli Dataset\\\\a18f264208.jpg',\n",
              "  'C:\\\\Users\\\\harik\\\\Downloads\\\\ML_Celebritiy_Classification_Project\\\\Original Data\\\\Virat Kohli Dataset\\\\a410364f02.jpg',\n",
              "  'C:\\\\Users\\\\harik\\\\Downloads\\\\ML_Celebritiy_Classification_Project\\\\Original Data\\\\Virat Kohli Dataset\\\\a45a1e7929.jpg',\n",
              "  'C:\\\\Users\\\\harik\\\\Downloads\\\\ML_Celebritiy_Classification_Project\\\\Original Data\\\\Virat Kohli Dataset\\\\a76fdd6705.jpg',\n",
              "  'C:\\\\Users\\\\harik\\\\Downloads\\\\ML_Celebritiy_Classification_Project\\\\Original Data\\\\Virat Kohli Dataset\\\\aa9aff20c8.jpg',\n",
              "  'C:\\\\Users\\\\harik\\\\Downloads\\\\ML_Celebritiy_Classification_Project\\\\Original Data\\\\Virat Kohli Dataset\\\\aacdbc91c5.jpg',\n",
              "  'C:\\\\Users\\\\harik\\\\Downloads\\\\ML_Celebritiy_Classification_Project\\\\Original Data\\\\Virat Kohli Dataset\\\\b1b30289cc.jpg',\n",
              "  'C:\\\\Users\\\\harik\\\\Downloads\\\\ML_Celebritiy_Classification_Project\\\\Original Data\\\\Virat Kohli Dataset\\\\b24633ff69.jpg',\n",
              "  'C:\\\\Users\\\\harik\\\\Downloads\\\\ML_Celebritiy_Classification_Project\\\\Original Data\\\\Virat Kohli Dataset\\\\b2f20fd674.jpg',\n",
              "  'C:\\\\Users\\\\harik\\\\Downloads\\\\ML_Celebritiy_Classification_Project\\\\Original Data\\\\Virat Kohli Dataset\\\\b66da3c9c7.jpg',\n",
              "  'C:\\\\Users\\\\harik\\\\Downloads\\\\ML_Celebritiy_Classification_Project\\\\Original Data\\\\Virat Kohli Dataset\\\\b79492fc98.jpg',\n",
              "  'C:\\\\Users\\\\harik\\\\Downloads\\\\ML_Celebritiy_Classification_Project\\\\Original Data\\\\Virat Kohli Dataset\\\\bb41267a29.jpg',\n",
              "  'C:\\\\Users\\\\harik\\\\Downloads\\\\ML_Celebritiy_Classification_Project\\\\Original Data\\\\Virat Kohli Dataset\\\\bb99a735bd.jpg',\n",
              "  'C:\\\\Users\\\\harik\\\\Downloads\\\\ML_Celebritiy_Classification_Project\\\\Original Data\\\\Virat Kohli Dataset\\\\bf7a379edb.jpg',\n",
              "  'C:\\\\Users\\\\harik\\\\Downloads\\\\ML_Celebritiy_Classification_Project\\\\Original Data\\\\Virat Kohli Dataset\\\\c008190c48.jpg',\n",
              "  'C:\\\\Users\\\\harik\\\\Downloads\\\\ML_Celebritiy_Classification_Project\\\\Original Data\\\\Virat Kohli Dataset\\\\ca4ace6ffd.jpg',\n",
              "  'C:\\\\Users\\\\harik\\\\Downloads\\\\ML_Celebritiy_Classification_Project\\\\Original Data\\\\Virat Kohli Dataset\\\\cae47439c4.jpg',\n",
              "  'C:\\\\Users\\\\harik\\\\Downloads\\\\ML_Celebritiy_Classification_Project\\\\Original Data\\\\Virat Kohli Dataset\\\\cbb752d148.jpg',\n",
              "  'C:\\\\Users\\\\harik\\\\Downloads\\\\ML_Celebritiy_Classification_Project\\\\Original Data\\\\Virat Kohli Dataset\\\\ce8509c4a3.jpg',\n",
              "  'C:\\\\Users\\\\harik\\\\Downloads\\\\ML_Celebritiy_Classification_Project\\\\Original Data\\\\Virat Kohli Dataset\\\\d0dbbb10a1.jpg',\n",
              "  'C:\\\\Users\\\\harik\\\\Downloads\\\\ML_Celebritiy_Classification_Project\\\\Original Data\\\\Virat Kohli Dataset\\\\d3b3c15c31.jpg',\n",
              "  'C:\\\\Users\\\\harik\\\\Downloads\\\\ML_Celebritiy_Classification_Project\\\\Original Data\\\\Virat Kohli Dataset\\\\d926a8b18d.jpg',\n",
              "  'C:\\\\Users\\\\harik\\\\Downloads\\\\ML_Celebritiy_Classification_Project\\\\Original Data\\\\Virat Kohli Dataset\\\\da99f49cfd.jpg',\n",
              "  'C:\\\\Users\\\\harik\\\\Downloads\\\\ML_Celebritiy_Classification_Project\\\\Original Data\\\\Virat Kohli Dataset\\\\db14c38dcd.jpg',\n",
              "  'C:\\\\Users\\\\harik\\\\Downloads\\\\ML_Celebritiy_Classification_Project\\\\Original Data\\\\Virat Kohli Dataset\\\\dec07e4775.jpg',\n",
              "  'C:\\\\Users\\\\harik\\\\Downloads\\\\ML_Celebritiy_Classification_Project\\\\Original Data\\\\Virat Kohli Dataset\\\\e158b6a853.jpg',\n",
              "  'C:\\\\Users\\\\harik\\\\Downloads\\\\ML_Celebritiy_Classification_Project\\\\Original Data\\\\Virat Kohli Dataset\\\\e309859808.jpg',\n",
              "  'C:\\\\Users\\\\harik\\\\Downloads\\\\ML_Celebritiy_Classification_Project\\\\Original Data\\\\Virat Kohli Dataset\\\\e5de3a7e94.jpg',\n",
              "  'C:\\\\Users\\\\harik\\\\Downloads\\\\ML_Celebritiy_Classification_Project\\\\Original Data\\\\Virat Kohli Dataset\\\\ea43ba6899.jpg',\n",
              "  'C:\\\\Users\\\\harik\\\\Downloads\\\\ML_Celebritiy_Classification_Project\\\\Original Data\\\\Virat Kohli Dataset\\\\ee9b8b6b6b.jpg',\n",
              "  'C:\\\\Users\\\\harik\\\\Downloads\\\\ML_Celebritiy_Classification_Project\\\\Original Data\\\\Virat Kohli Dataset\\\\eede89a24b.jpg',\n",
              "  'C:\\\\Users\\\\harik\\\\Downloads\\\\ML_Celebritiy_Classification_Project\\\\Original Data\\\\Virat Kohli Dataset\\\\f4f9df9fcc.jpg',\n",
              "  'C:\\\\Users\\\\harik\\\\Downloads\\\\ML_Celebritiy_Classification_Project\\\\Original Data\\\\Virat Kohli Dataset\\\\f5fc8953ab.jpg',\n",
              "  'C:\\\\Users\\\\harik\\\\Downloads\\\\ML_Celebritiy_Classification_Project\\\\Original Data\\\\Virat Kohli Dataset\\\\f70491a4c2.jpg',\n",
              "  'C:\\\\Users\\\\harik\\\\Downloads\\\\ML_Celebritiy_Classification_Project\\\\Original Data\\\\Virat Kohli Dataset\\\\f8d44f8840.jpg',\n",
              "  'C:\\\\Users\\\\harik\\\\Downloads\\\\ML_Celebritiy_Classification_Project\\\\Original Data\\\\Virat Kohli Dataset\\\\fa92cc3cd5.jpg',\n",
              "  'C:\\\\Users\\\\harik\\\\Downloads\\\\ML_Celebritiy_Classification_Project\\\\Original Data\\\\Virat Kohli Dataset\\\\fc47090678.jpg',\n",
              "  'C:\\\\Users\\\\harik\\\\Downloads\\\\ML_Celebritiy_Classification_Project\\\\Original Data\\\\Virat Kohli Dataset\\\\fc75b07003.jpg',\n",
              "  'C:\\\\Users\\\\harik\\\\Downloads\\\\ML_Celebritiy_Classification_Project\\\\Original Data\\\\Virat Kohli Dataset\\\\kohli1.jpg']}"
            ]
          },
          "execution_count": 29,
          "metadata": {},
          "output_type": "execute_result"
        }
      ],
      "source": [
        "celebrity_file_names_dict"
      ]
    },
    {
      "cell_type": "code",
      "execution_count": null,
      "metadata": {
        "id": "cy0-pyJYUkAM",
        "outputId": "a6c90a4a-595f-4a4c-ec4e-a895b52b1c04"
      },
      "outputs": [
        {
          "data": {
            "text/plain": [
              "{'Messi': 0, 'Dhoni': 1, 'Federer': 2, 'Kohli': 3}"
            ]
          },
          "execution_count": 30,
          "metadata": {},
          "output_type": "execute_result"
        }
      ],
      "source": [
        "#For the Y label we encode each celebrity name with a number \n",
        "class_dict = {}\n",
        "count = 0\n",
        "for celebrity_name in celebrity_file_names_dict.keys():\n",
        "    class_dict[celebrity_name] = count\n",
        "    count = count + 1\n",
        "class_dict"
      ]
    },
    {
      "cell_type": "code",
      "execution_count": null,
      "metadata": {
        "id": "oCeQyEtmUkAM"
      },
      "outputs": [],
      "source": [
        "import os\n",
        "\n",
        "img_dir_Messi_crop = []\n",
        "for entry in os.scandir('C:\\\\Users\\\\harik\\\\Downloads\\\\ML_Celebritiy_Classification_Project\\\\Cropped DataMessi'):\n",
        "    img_dir_Messi_crop.append(entry.path)\n",
        "    \n",
        "img_dir_Dhoni_crop = []\n",
        "for entry in os.scandir('C:\\\\Users\\\\harik\\\\Downloads\\\\ML_Celebritiy_Classification_Project\\\\Cropped DataDhoni'):\n",
        "    img_dir_Dhoni_crop.append(entry.path)\n",
        "    \n",
        "img_dir_Federer_crop = []\n",
        "for entry in os.scandir('C:\\\\Users\\\\harik\\\\Downloads\\\\ML_Celebritiy_Classification_Project\\\\Cropped DataFederer'):\n",
        "    img_dir_Federer_crop.append(entry.path)\n",
        "    \n",
        "img_dir_Kohli_crop = []\n",
        "for entry in os.scandir('C:\\\\Users\\\\harik\\\\Downloads\\\\ML_Celebritiy_Classification_Project\\\\Cropped DataKohli'):\n",
        "    img_dir_Kohli_crop.append(entry.path)\n",
        "    \n",
        "X, y = [], []\n",
        "\n",
        "for i in range(1,len(img_dir_Messi_crop)):\n",
        "    img = cv2.imread(img_dir_Messi_crop[i])\n",
        "    scalled_raw_img = cv2.resize(img, (32, 32))\n",
        "    img_har = w2d(img,'db1',5)\n",
        "    scalled_img_har = cv2.resize(img_har, (32, 32))\n",
        "    combined_img = np.vstack((scalled_raw_img.reshape(32*32*3,1),scalled_img_har.reshape(32*32,1)))\n",
        "    X.append(combined_img)\n",
        "    y.append(class_dict['Messi'])          \n",
        "\n",
        "for i in range(1,len(img_dir_Dhoni_crop)):\n",
        "    img = cv2.imread(img_dir_Dhoni_crop[i])\n",
        "    scalled_raw_img = cv2.resize(img, (32, 32))\n",
        "    img_har = w2d(img,'db1',5)\n",
        "    scalled_img_har = cv2.resize(img_har, (32, 32))\n",
        "    combined_img = np.vstack((scalled_raw_img.reshape(32*32*3,1),scalled_img_har.reshape(32*32,1)))\n",
        "    X.append(combined_img)\n",
        "    y.append(class_dict['Dhoni'])  \n",
        "    \n",
        "for i in range(1,len(img_dir_Federer_crop)):\n",
        "    img = cv2.imread(img_dir_Federer_crop[i])\n",
        "    scalled_raw_img = cv2.resize(img, (32, 32))\n",
        "    img_har = w2d(img,'db1',5)\n",
        "    scalled_img_har = cv2.resize(img_har, (32, 32))\n",
        "    combined_img = np.vstack((scalled_raw_img.reshape(32*32*3,1),scalled_img_har.reshape(32*32,1)))\n",
        "    X.append(combined_img)\n",
        "    y.append(class_dict['Federer'])  \n",
        "  \n",
        "for i in range(1,len(img_dir_Kohli_crop)):\n",
        "    img = cv2.imread(img_dir_Kohli_crop[i])\n",
        "    scalled_raw_img = cv2.resize(img, (32, 32))\n",
        "    img_har = w2d(img,'db1',5)\n",
        "    scalled_img_har = cv2.resize(img_har, (32, 32))\n",
        "    combined_img = np.vstack((scalled_raw_img.reshape(32*32*3,1),scalled_img_har.reshape(32*32,1)))\n",
        "    X.append(combined_img)\n",
        "    y.append(class_dict['Kohli'])  "
      ]
    },
    {
      "cell_type": "code",
      "execution_count": null,
      "metadata": {
        "id": "NHEj5BBTUkAM",
        "outputId": "d7f01e0c-d51c-4c5a-9c64-37fc561e4a68"
      },
      "outputs": [
        {
          "data": {
            "text/plain": [
              "[array([[29],\n",
              "        [34],\n",
              "        [33],\n",
              "        ...,\n",
              "        [ 3],\n",
              "        [ 0],\n",
              "        [ 0]], dtype=uint8), array([[126],\n",
              "        [130],\n",
              "        [125],\n",
              "        ...,\n",
              "        [247],\n",
              "        [ 10],\n",
              "        [232]], dtype=uint8), array([[  9],\n",
              "        [ 16],\n",
              "        [ 15],\n",
              "        ...,\n",
              "        [253],\n",
              "        [140],\n",
              "        [  1]], dtype=uint8), array([[ 11],\n",
              "        [  6],\n",
              "        [  7],\n",
              "        ...,\n",
              "        [241],\n",
              "        [243],\n",
              "        [242]], dtype=uint8), array([[ 14],\n",
              "        [ 13],\n",
              "        [ 15],\n",
              "        ...,\n",
              "        [  9],\n",
              "        [250],\n",
              "        [250]], dtype=uint8), array([[ 25],\n",
              "        [ 33],\n",
              "        [ 34],\n",
              "        ...,\n",
              "        [ 14],\n",
              "        [  6],\n",
              "        [220]], dtype=uint8), array([[ 27],\n",
              "        [ 34],\n",
              "        [ 37],\n",
              "        ...,\n",
              "        [156],\n",
              "        [ 17],\n",
              "        [ 22]], dtype=uint8), array([[ 64],\n",
              "        [ 65],\n",
              "        [ 75],\n",
              "        ...,\n",
              "        [246],\n",
              "        [  3],\n",
              "        [251]], dtype=uint8), array([[ 35],\n",
              "        [ 32],\n",
              "        [ 31],\n",
              "        ...,\n",
              "        [215],\n",
              "        [136],\n",
              "        [ 20]], dtype=uint8), array([[228],\n",
              "        [223],\n",
              "        [222],\n",
              "        ...,\n",
              "        [  0],\n",
              "        [  0],\n",
              "        [  0]], dtype=uint8), array([[ 35],\n",
              "        [ 30],\n",
              "        [ 31],\n",
              "        ...,\n",
              "        [ 54],\n",
              "        [ 87],\n",
              "        [195]], dtype=uint8), array([[164],\n",
              "        [123],\n",
              "        [  1],\n",
              "        ...,\n",
              "        [118],\n",
              "        [192],\n",
              "        [  2]], dtype=uint8), array([[131],\n",
              "        [125],\n",
              "        [130],\n",
              "        ...,\n",
              "        [  3],\n",
              "        [101],\n",
              "        [249]], dtype=uint8), array([[ 30],\n",
              "        [ 32],\n",
              "        [ 33],\n",
              "        ...,\n",
              "        [253],\n",
              "        [251],\n",
              "        [252]], dtype=uint8), array([[82],\n",
              "        [67],\n",
              "        [ 7],\n",
              "        ...,\n",
              "        [49],\n",
              "        [43],\n",
              "        [48]], dtype=uint8), array([[ 58],\n",
              "        [ 55],\n",
              "        [ 71],\n",
              "        ...,\n",
              "        [247],\n",
              "        [247],\n",
              "        [251]], dtype=uint8), array([[ 56],\n",
              "        [ 65],\n",
              "        [ 73],\n",
              "        ...,\n",
              "        [236],\n",
              "        [243],\n",
              "        [229]], dtype=uint8), array([[19],\n",
              "        [17],\n",
              "        [23],\n",
              "        ...,\n",
              "        [13],\n",
              "        [47],\n",
              "        [89]], dtype=uint8), array([[  4],\n",
              "        [  3],\n",
              "        [  5],\n",
              "        ...,\n",
              "        [103],\n",
              "        [ 10],\n",
              "        [ 67]], dtype=uint8), array([[238],\n",
              "        [230],\n",
              "        [230],\n",
              "        ...,\n",
              "        [ 45],\n",
              "        [ 80],\n",
              "        [ 55]], dtype=uint8), array([[139],\n",
              "        [122],\n",
              "        [114],\n",
              "        ...,\n",
              "        [236],\n",
              "        [245],\n",
              "        [ 36]], dtype=uint8), array([[151],\n",
              "        [156],\n",
              "        [165],\n",
              "        ...,\n",
              "        [212],\n",
              "        [240],\n",
              "        [237]], dtype=uint8), array([[ 90],\n",
              "        [ 66],\n",
              "        [ 67],\n",
              "        ...,\n",
              "        [ 36],\n",
              "        [247],\n",
              "        [ 23]], dtype=uint8), array([[ 49],\n",
              "        [ 57],\n",
              "        [ 64],\n",
              "        ...,\n",
              "        [  0],\n",
              "        [255],\n",
              "        [255]], dtype=uint8), array([[ 27],\n",
              "        [ 37],\n",
              "        [ 39],\n",
              "        ...,\n",
              "        [  6],\n",
              "        [ 64],\n",
              "        [240]], dtype=uint8), array([[ 18],\n",
              "        [ 32],\n",
              "        [ 38],\n",
              "        ...,\n",
              "        [210],\n",
              "        [ 78],\n",
              "        [  0]], dtype=uint8), array([[  4],\n",
              "        [ 10],\n",
              "        [ 13],\n",
              "        ...,\n",
              "        [239],\n",
              "        [242],\n",
              "        [ 22]], dtype=uint8), array([[238],\n",
              "        [230],\n",
              "        [238],\n",
              "        ...,\n",
              "        [ 61],\n",
              "        [ 72],\n",
              "        [ 69]], dtype=uint8), array([[42],\n",
              "        [44],\n",
              "        [51],\n",
              "        ...,\n",
              "        [ 4],\n",
              "        [55],\n",
              "        [ 5]], dtype=uint8), array([[66],\n",
              "        [82],\n",
              "        [98],\n",
              "        ...,\n",
              "        [ 1],\n",
              "        [ 0],\n",
              "        [ 0]], dtype=uint8), array([[244],\n",
              "        [248],\n",
              "        [249],\n",
              "        ...,\n",
              "        [  0],\n",
              "        [  0],\n",
              "        [  0]], dtype=uint8), array([[ 43],\n",
              "        [ 35],\n",
              "        [ 45],\n",
              "        ...,\n",
              "        [138],\n",
              "        [ 58],\n",
              "        [167]], dtype=uint8), array([[161],\n",
              "        [161],\n",
              "        [149],\n",
              "        ...,\n",
              "        [245],\n",
              "        [234],\n",
              "        [217]], dtype=uint8), array([[184],\n",
              "        [170],\n",
              "        [151],\n",
              "        ...,\n",
              "        [235],\n",
              "        [242],\n",
              "        [233]], dtype=uint8), array([[ 67],\n",
              "        [ 77],\n",
              "        [ 85],\n",
              "        ...,\n",
              "        [  4],\n",
              "        [ 37],\n",
              "        [245]], dtype=uint8), array([[  6],\n",
              "        [ 15],\n",
              "        [ 30],\n",
              "        ...,\n",
              "        [245],\n",
              "        [  5],\n",
              "        [152]], dtype=uint8), array([[ 51],\n",
              "        [ 45],\n",
              "        [ 32],\n",
              "        ...,\n",
              "        [  9],\n",
              "        [206],\n",
              "        [ 35]], dtype=uint8), array([[ 63],\n",
              "        [ 63],\n",
              "        [ 67],\n",
              "        ...,\n",
              "        [  2],\n",
              "        [194],\n",
              "        [  4]], dtype=uint8), array([[194],\n",
              "        [128],\n",
              "        [126],\n",
              "        ...,\n",
              "        [ 30],\n",
              "        [254],\n",
              "        [253]], dtype=uint8), array([[39],\n",
              "        [34],\n",
              "        [31],\n",
              "        ...,\n",
              "        [35],\n",
              "        [49],\n",
              "        [51]], dtype=uint8), array([[116],\n",
              "        [ 77],\n",
              "        [ 47],\n",
              "        ...,\n",
              "        [  6],\n",
              "        [  3],\n",
              "        [  0]], dtype=uint8), array([[ 71],\n",
              "        [128],\n",
              "        [247],\n",
              "        ...,\n",
              "        [ 19],\n",
              "        [ 19],\n",
              "        [ 19]], dtype=uint8), array([[ 77],\n",
              "        [ 59],\n",
              "        [ 84],\n",
              "        ...,\n",
              "        [229],\n",
              "        [238],\n",
              "        [ 42]], dtype=uint8), array([[ 84],\n",
              "        [ 80],\n",
              "        [ 83],\n",
              "        ...,\n",
              "        [ 35],\n",
              "        [ 33],\n",
              "        [136]], dtype=uint8), array([[28],\n",
              "        [49],\n",
              "        [52],\n",
              "        ...,\n",
              "        [ 6],\n",
              "        [19],\n",
              "        [32]], dtype=uint8), array([[ 48],\n",
              "        [ 43],\n",
              "        [ 44],\n",
              "        ...,\n",
              "        [ 23],\n",
              "        [ 23],\n",
              "        [223]], dtype=uint8), array([[136],\n",
              "        [155],\n",
              "        [193],\n",
              "        ...,\n",
              "        [236],\n",
              "        [ 12],\n",
              "        [236]], dtype=uint8), array([[ 33],\n",
              "        [ 37],\n",
              "        [ 51],\n",
              "        ...,\n",
              "        [239],\n",
              "        [  6],\n",
              "        [  2]], dtype=uint8), array([[15],\n",
              "        [15],\n",
              "        [14],\n",
              "        ...,\n",
              "        [79],\n",
              "        [15],\n",
              "        [18]], dtype=uint8), array([[ 39],\n",
              "        [ 80],\n",
              "        [196],\n",
              "        ...,\n",
              "        [  8],\n",
              "        [218],\n",
              "        [ 31]], dtype=uint8), array([[73],\n",
              "        [68],\n",
              "        [69],\n",
              "        ...,\n",
              "        [ 0],\n",
              "        [ 0],\n",
              "        [ 0]], dtype=uint8), array([[73],\n",
              "        [68],\n",
              "        [69],\n",
              "        ...,\n",
              "        [ 0],\n",
              "        [ 0],\n",
              "        [ 0]], dtype=uint8), array([[105],\n",
              "        [110],\n",
              "        [128],\n",
              "        ...,\n",
              "        [235],\n",
              "        [203],\n",
              "        [ 15]], dtype=uint8), array([[16],\n",
              "        [30],\n",
              "        [36],\n",
              "        ...,\n",
              "        [ 2],\n",
              "        [ 5],\n",
              "        [12]], dtype=uint8), array([[119],\n",
              "        [ 99],\n",
              "        [103],\n",
              "        ...,\n",
              "        [ 20],\n",
              "        [ 57],\n",
              "        [210]], dtype=uint8), array([[  2],\n",
              "        [  7],\n",
              "        [ 10],\n",
              "        ...,\n",
              "        [ 28],\n",
              "        [206],\n",
              "        [227]], dtype=uint8), array([[  2],\n",
              "        [  7],\n",
              "        [ 10],\n",
              "        ...,\n",
              "        [ 28],\n",
              "        [206],\n",
              "        [227]], dtype=uint8), array([[ 16],\n",
              "        [ 23],\n",
              "        [ 36],\n",
              "        ...,\n",
              "        [255],\n",
              "        [  0],\n",
              "        [  0]], dtype=uint8), array([[  5],\n",
              "        [ 11],\n",
              "        [ 17],\n",
              "        ...,\n",
              "        [  0],\n",
              "        [235],\n",
              "        [  0]], dtype=uint8), array([[  5],\n",
              "        [ 11],\n",
              "        [ 17],\n",
              "        ...,\n",
              "        [  0],\n",
              "        [235],\n",
              "        [  0]], dtype=uint8), array([[192],\n",
              "        [194],\n",
              "        [198],\n",
              "        ...,\n",
              "        [108],\n",
              "        [174],\n",
              "        [128]], dtype=uint8), array([[ 22],\n",
              "        [ 33],\n",
              "        [ 54],\n",
              "        ...,\n",
              "        [222],\n",
              "        [220],\n",
              "        [216]], dtype=uint8), array([[ 69],\n",
              "        [ 97],\n",
              "        [120],\n",
              "        ...,\n",
              "        [250],\n",
              "        [239],\n",
              "        [ 86]], dtype=uint8), array([[ 30],\n",
              "        [ 29],\n",
              "        [ 40],\n",
              "        ...,\n",
              "        [104],\n",
              "        [114],\n",
              "        [103]], dtype=uint8), array([[240],\n",
              "        [224],\n",
              "        [216],\n",
              "        ...,\n",
              "        [ 48],\n",
              "        [206],\n",
              "        [ 14]], dtype=uint8), array([[13],\n",
              "        [16],\n",
              "        [24],\n",
              "        ...,\n",
              "        [ 2],\n",
              "        [ 5],\n",
              "        [ 2]], dtype=uint8), array([[ 22],\n",
              "        [ 17],\n",
              "        [ 16],\n",
              "        ...,\n",
              "        [ 32],\n",
              "        [163],\n",
              "        [  5]], dtype=uint8), array([[ 0],\n",
              "        [ 6],\n",
              "        [24],\n",
              "        ...,\n",
              "        [ 3],\n",
              "        [ 3],\n",
              "        [ 2]], dtype=uint8), array([[ 89],\n",
              "        [ 94],\n",
              "        [ 91],\n",
              "        ...,\n",
              "        [ 51],\n",
              "        [197],\n",
              "        [ 20]], dtype=uint8), array([[  9],\n",
              "        [ 18],\n",
              "        [ 26],\n",
              "        ...,\n",
              "        [139],\n",
              "        [ 15],\n",
              "        [ 10]], dtype=uint8), array([[38],\n",
              "        [43],\n",
              "        [44],\n",
              "        ...,\n",
              "        [49],\n",
              "        [44],\n",
              "        [47]], dtype=uint8), array([[24],\n",
              "        [26],\n",
              "        [33],\n",
              "        ...,\n",
              "        [17],\n",
              "        [17],\n",
              "        [16]], dtype=uint8), array([[ 46],\n",
              "        [ 38],\n",
              "        [ 27],\n",
              "        ...,\n",
              "        [149],\n",
              "        [105],\n",
              "        [211]], dtype=uint8), array([[ 46],\n",
              "        [ 38],\n",
              "        [ 27],\n",
              "        ...,\n",
              "        [149],\n",
              "        [105],\n",
              "        [211]], dtype=uint8), array([[ 40],\n",
              "        [ 39],\n",
              "        [ 48],\n",
              "        ...,\n",
              "        [  2],\n",
              "        [180],\n",
              "        [ 10]], dtype=uint8), array([[ 66],\n",
              "        [ 45],\n",
              "        [ 37],\n",
              "        ...,\n",
              "        [255],\n",
              "        [  0],\n",
              "        [255]], dtype=uint8), array([[ 37],\n",
              "        [ 39],\n",
              "        [ 87],\n",
              "        ...,\n",
              "        [198],\n",
              "        [203],\n",
              "        [194]], dtype=uint8), array([[ 15],\n",
              "        [ 15],\n",
              "        [ 15],\n",
              "        ...,\n",
              "        [215],\n",
              "        [  6],\n",
              "        [ 20]], dtype=uint8), array([[211],\n",
              "        [222],\n",
              "        [226],\n",
              "        ...,\n",
              "        [213],\n",
              "        [178],\n",
              "        [ 17]], dtype=uint8), array([[252],\n",
              "        [252],\n",
              "        [252],\n",
              "        ...,\n",
              "        [101],\n",
              "        [102],\n",
              "        [  3]], dtype=uint8), array([[25],\n",
              "        [25],\n",
              "        [27],\n",
              "        ...,\n",
              "        [75],\n",
              "        [41],\n",
              "        [51]], dtype=uint8), array([[ 87],\n",
              "        [ 78],\n",
              "        [ 75],\n",
              "        ...,\n",
              "        [111],\n",
              "        [ 12],\n",
              "        [ 19]], dtype=uint8), array([[254],\n",
              "        [202],\n",
              "        [120],\n",
              "        ...,\n",
              "        [253],\n",
              "        [254],\n",
              "        [251]], dtype=uint8), array([[250],\n",
              "        [173],\n",
              "        [135],\n",
              "        ...,\n",
              "        [  9],\n",
              "        [  4],\n",
              "        [252]], dtype=uint8), array([[ 17],\n",
              "        [ 35],\n",
              "        [ 54],\n",
              "        ...,\n",
              "        [ 32],\n",
              "        [ 62],\n",
              "        [199]], dtype=uint8), array([[227],\n",
              "        [114],\n",
              "        [ 27],\n",
              "        ...,\n",
              "        [245],\n",
              "        [  1],\n",
              "        [ 51]], dtype=uint8), array([[139],\n",
              "        [134],\n",
              "        [125],\n",
              "        ...,\n",
              "        [ 29],\n",
              "        [ 93],\n",
              "        [ 95]], dtype=uint8), array([[ 89],\n",
              "        [ 78],\n",
              "        [104],\n",
              "        ...,\n",
              "        [210],\n",
              "        [ 42],\n",
              "        [246]], dtype=uint8), array([[ 32],\n",
              "        [ 31],\n",
              "        [ 33],\n",
              "        ...,\n",
              "        [246],\n",
              "        [243],\n",
              "        [240]], dtype=uint8), array([[  5],\n",
              "        [  4],\n",
              "        [  4],\n",
              "        ...,\n",
              "        [ 38],\n",
              "        [  2],\n",
              "        [245]], dtype=uint8), array([[ 64],\n",
              "        [ 47],\n",
              "        [ 41],\n",
              "        ...,\n",
              "        [248],\n",
              "        [ 90],\n",
              "        [136]], dtype=uint8), array([[254],\n",
              "        [185],\n",
              "        [165],\n",
              "        ...,\n",
              "        [  2],\n",
              "        [245],\n",
              "        [248]], dtype=uint8), array([[ 38],\n",
              "        [ 59],\n",
              "        [ 89],\n",
              "        ...,\n",
              "        [  9],\n",
              "        [140],\n",
              "        [214]], dtype=uint8), array([[  6],\n",
              "        [ 38],\n",
              "        [ 76],\n",
              "        ...,\n",
              "        [ 28],\n",
              "        [251],\n",
              "        [243]], dtype=uint8), array([[208],\n",
              "        [209],\n",
              "        [205],\n",
              "        ...,\n",
              "        [226],\n",
              "        [215],\n",
              "        [ 55]], dtype=uint8), array([[ 45],\n",
              "        [ 48],\n",
              "        [ 66],\n",
              "        ...,\n",
              "        [255],\n",
              "        [ 64],\n",
              "        [  1]], dtype=uint8), array([[ 62],\n",
              "        [ 87],\n",
              "        [113],\n",
              "        ...,\n",
              "        [254],\n",
              "        [254],\n",
              "        [ 81]], dtype=uint8), array([[250],\n",
              "        [217],\n",
              "        [133],\n",
              "        ...,\n",
              "        [  6],\n",
              "        [242],\n",
              "        [224]], dtype=uint8), array([[ 98],\n",
              "        [195],\n",
              "        [153],\n",
              "        ...,\n",
              "        [242],\n",
              "        [248],\n",
              "        [139]], dtype=uint8), array([[101],\n",
              "        [113],\n",
              "        [181],\n",
              "        ...,\n",
              "        [249],\n",
              "        [  9],\n",
              "        [ 14]], dtype=uint8), array([[30],\n",
              "        [47],\n",
              "        [80],\n",
              "        ...,\n",
              "        [58],\n",
              "        [58],\n",
              "        [ 0]], dtype=uint8), array([[186],\n",
              "        [206],\n",
              "        [201],\n",
              "        ...,\n",
              "        [189],\n",
              "        [  0],\n",
              "        [247]], dtype=uint8), array([[16],\n",
              "        [17],\n",
              "        [21],\n",
              "        ...,\n",
              "        [ 7],\n",
              "        [27],\n",
              "        [23]], dtype=uint8), array([[ 38],\n",
              "        [ 33],\n",
              "        [ 30],\n",
              "        ...,\n",
              "        [  0],\n",
              "        [  0],\n",
              "        [255]], dtype=uint8), array([[143],\n",
              "        [ 60],\n",
              "        [ 22],\n",
              "        ...,\n",
              "        [ 25],\n",
              "        [239],\n",
              "        [240]], dtype=uint8), array([[183],\n",
              "        [205],\n",
              "        [210],\n",
              "        ...,\n",
              "        [254],\n",
              "        [255],\n",
              "        [253]], dtype=uint8), array([[135],\n",
              "        [176],\n",
              "        [191],\n",
              "        ...,\n",
              "        [ 55],\n",
              "        [  0],\n",
              "        [  0]], dtype=uint8), array([[144],\n",
              "        [ 49],\n",
              "        [ 48],\n",
              "        ...,\n",
              "        [ 85],\n",
              "        [ 19],\n",
              "        [ 38]], dtype=uint8), array([[30],\n",
              "        [30],\n",
              "        [30],\n",
              "        ...,\n",
              "        [21],\n",
              "        [48],\n",
              "        [ 4]], dtype=uint8), array([[ 45],\n",
              "        [ 36],\n",
              "        [ 28],\n",
              "        ...,\n",
              "        [239],\n",
              "        [254],\n",
              "        [ 12]], dtype=uint8), array([[ 55],\n",
              "        [ 28],\n",
              "        [ 28],\n",
              "        ...,\n",
              "        [236],\n",
              "        [254],\n",
              "        [  1]], dtype=uint8), array([[131],\n",
              "        [235],\n",
              "        [203],\n",
              "        ...,\n",
              "        [231],\n",
              "        [228],\n",
              "        [154]], dtype=uint8), array([[135],\n",
              "        [167],\n",
              "        [206],\n",
              "        ...,\n",
              "        [ 19],\n",
              "        [195],\n",
              "        [ 74]], dtype=uint8), array([[ 25],\n",
              "        [ 32],\n",
              "        [ 35],\n",
              "        ...,\n",
              "        [ 11],\n",
              "        [ 33],\n",
              "        [144]], dtype=uint8), array([[214],\n",
              "        [223],\n",
              "        [225],\n",
              "        ...,\n",
              "        [250],\n",
              "        [ 61],\n",
              "        [106]], dtype=uint8), array([[ 72],\n",
              "        [ 68],\n",
              "        [ 63],\n",
              "        ...,\n",
              "        [252],\n",
              "        [252],\n",
              "        [252]], dtype=uint8), array([[ 88],\n",
              "        [104],\n",
              "        [117],\n",
              "        ...,\n",
              "        [  0],\n",
              "        [  1],\n",
              "        [  3]], dtype=uint8), array([[190],\n",
              "        [216],\n",
              "        [222],\n",
              "        ...,\n",
              "        [189],\n",
              "        [ 16],\n",
              "        [241]], dtype=uint8), array([[131],\n",
              "        [132],\n",
              "        [133],\n",
              "        ...,\n",
              "        [222],\n",
              "        [ 30],\n",
              "        [ 68]], dtype=uint8), array([[ 1],\n",
              "        [ 0],\n",
              "        [ 3],\n",
              "        ...,\n",
              "        [ 5],\n",
              "        [61],\n",
              "        [ 1]], dtype=uint8), array([[221],\n",
              "        [221],\n",
              "        [221],\n",
              "        ...,\n",
              "        [  4],\n",
              "        [204],\n",
              "        [248]], dtype=uint8), array([[206],\n",
              "        [198],\n",
              "        [198],\n",
              "        ...,\n",
              "        [178],\n",
              "        [  7],\n",
              "        [  8]], dtype=uint8), array([[140],\n",
              "        [135],\n",
              "        [126],\n",
              "        ...,\n",
              "        [238],\n",
              "        [ 14],\n",
              "        [ 17]], dtype=uint8), array([[ 13],\n",
              "        [ 13],\n",
              "        [ 13],\n",
              "        ...,\n",
              "        [248],\n",
              "        [  0],\n",
              "        [253]], dtype=uint8)]"
            ]
          },
          "execution_count": 49,
          "metadata": {},
          "output_type": "execute_result"
        }
      ],
      "source": [
        "X"
      ]
    },
    {
      "cell_type": "code",
      "execution_count": null,
      "metadata": {
        "id": "uIRllDvyUkAN",
        "outputId": "02f35feb-94b5-43eb-d0ec-e959286b4a62"
      },
      "outputs": [
        {
          "data": {
            "text/plain": [
              "[0,\n",
              " 0,\n",
              " 0,\n",
              " 0,\n",
              " 0,\n",
              " 0,\n",
              " 0,\n",
              " 0,\n",
              " 0,\n",
              " 0,\n",
              " 0,\n",
              " 0,\n",
              " 0,\n",
              " 0,\n",
              " 0,\n",
              " 0,\n",
              " 0,\n",
              " 0,\n",
              " 0,\n",
              " 0,\n",
              " 0,\n",
              " 0,\n",
              " 0,\n",
              " 0,\n",
              " 0,\n",
              " 0,\n",
              " 0,\n",
              " 0,\n",
              " 0,\n",
              " 0,\n",
              " 0,\n",
              " 0,\n",
              " 0,\n",
              " 0,\n",
              " 0,\n",
              " 0,\n",
              " 0,\n",
              " 0,\n",
              " 0,\n",
              " 1,\n",
              " 1,\n",
              " 1,\n",
              " 1,\n",
              " 1,\n",
              " 2,\n",
              " 2,\n",
              " 2,\n",
              " 2,\n",
              " 2,\n",
              " 2,\n",
              " 2,\n",
              " 2,\n",
              " 2,\n",
              " 2,\n",
              " 2,\n",
              " 2,\n",
              " 2,\n",
              " 2,\n",
              " 2,\n",
              " 2,\n",
              " 2,\n",
              " 2,\n",
              " 2,\n",
              " 2,\n",
              " 2,\n",
              " 2,\n",
              " 2,\n",
              " 2,\n",
              " 2,\n",
              " 2,\n",
              " 2,\n",
              " 2,\n",
              " 2,\n",
              " 2,\n",
              " 2,\n",
              " 2,\n",
              " 2,\n",
              " 3,\n",
              " 3,\n",
              " 3,\n",
              " 3,\n",
              " 3,\n",
              " 3,\n",
              " 3,\n",
              " 3,\n",
              " 3,\n",
              " 3,\n",
              " 3,\n",
              " 3,\n",
              " 3,\n",
              " 3,\n",
              " 3,\n",
              " 3,\n",
              " 3,\n",
              " 3,\n",
              " 3,\n",
              " 3,\n",
              " 3,\n",
              " 3,\n",
              " 3,\n",
              " 3,\n",
              " 3,\n",
              " 3,\n",
              " 3,\n",
              " 3,\n",
              " 3,\n",
              " 3,\n",
              " 3,\n",
              " 3,\n",
              " 3,\n",
              " 3,\n",
              " 3,\n",
              " 3,\n",
              " 3,\n",
              " 3,\n",
              " 3,\n",
              " 3,\n",
              " 3,\n",
              " 3,\n",
              " 3,\n",
              " 3,\n",
              " 3,\n",
              " 3,\n",
              " 3]"
            ]
          },
          "execution_count": 50,
          "metadata": {},
          "output_type": "execute_result"
        }
      ],
      "source": [
        "y"
      ]
    },
    {
      "cell_type": "code",
      "execution_count": null,
      "metadata": {
        "id": "Tkot9JnUUkAN"
      },
      "outputs": [],
      "source": [
        "#Now we have completed the Data cleaning and preprocessing,now we can proceed with the Training of the model using the SVM algorithm"
      ]
    },
    {
      "cell_type": "code",
      "execution_count": null,
      "metadata": {
        "id": "Sk6ZTMHBUkAN"
      },
      "outputs": [],
      "source": [
        "import numpy as np\n",
        "X = np.array(X)\n",
        "y = np.array(y)"
      ]
    },
    {
      "cell_type": "code",
      "execution_count": null,
      "metadata": {
        "id": "gQPAdtrgUkAN",
        "outputId": "80bebbc6-0a6c-46b3-9396-b229e0b006ba"
      },
      "outputs": [
        {
          "data": {
            "text/plain": [
              "array([[[ 29],\n",
              "        [ 34],\n",
              "        [ 33],\n",
              "        ...,\n",
              "        [  3],\n",
              "        [  0],\n",
              "        [  0]],\n",
              "\n",
              "       [[126],\n",
              "        [130],\n",
              "        [125],\n",
              "        ...,\n",
              "        [247],\n",
              "        [ 10],\n",
              "        [232]],\n",
              "\n",
              "       [[  9],\n",
              "        [ 16],\n",
              "        [ 15],\n",
              "        ...,\n",
              "        [253],\n",
              "        [140],\n",
              "        [  1]],\n",
              "\n",
              "       ...,\n",
              "\n",
              "       [[206],\n",
              "        [198],\n",
              "        [198],\n",
              "        ...,\n",
              "        [178],\n",
              "        [  7],\n",
              "        [  8]],\n",
              "\n",
              "       [[140],\n",
              "        [135],\n",
              "        [126],\n",
              "        ...,\n",
              "        [238],\n",
              "        [ 14],\n",
              "        [ 17]],\n",
              "\n",
              "       [[ 13],\n",
              "        [ 13],\n",
              "        [ 13],\n",
              "        ...,\n",
              "        [248],\n",
              "        [  0],\n",
              "        [253]]], dtype=uint8)"
            ]
          },
          "execution_count": 54,
          "metadata": {},
          "output_type": "execute_result"
        }
      ],
      "source": [
        "X"
      ]
    },
    {
      "cell_type": "code",
      "execution_count": null,
      "metadata": {
        "id": "MsGBDvEtUkAO",
        "outputId": "23e6b4ea-e063-4920-90cc-4e5ac1274e04"
      },
      "outputs": [
        {
          "data": {
            "text/plain": [
              "array([0, 0, 0, 0, 0, 0, 0, 0, 0, 0, 0, 0, 0, 0, 0, 0, 0, 0, 0, 0, 0, 0,\n",
              "       0, 0, 0, 0, 0, 0, 0, 0, 0, 0, 0, 0, 0, 0, 0, 0, 0, 1, 1, 1, 1, 1,\n",
              "       2, 2, 2, 2, 2, 2, 2, 2, 2, 2, 2, 2, 2, 2, 2, 2, 2, 2, 2, 2, 2, 2,\n",
              "       2, 2, 2, 2, 2, 2, 2, 2, 2, 2, 2, 3, 3, 3, 3, 3, 3, 3, 3, 3, 3, 3,\n",
              "       3, 3, 3, 3, 3, 3, 3, 3, 3, 3, 3, 3, 3, 3, 3, 3, 3, 3, 3, 3, 3, 3,\n",
              "       3, 3, 3, 3, 3, 3, 3, 3, 3, 3, 3, 3, 3, 3])"
            ]
          },
          "execution_count": 55,
          "metadata": {},
          "output_type": "execute_result"
        }
      ],
      "source": [
        "y"
      ]
    },
    {
      "cell_type": "code",
      "execution_count": null,
      "metadata": {
        "id": "1ayspKCCUkAO",
        "outputId": "e32e9ecb-64e6-4946-d15e-f375e7240920"
      },
      "outputs": [
        {
          "data": {
            "text/plain": [
              "4096"
            ]
          },
          "execution_count": 69,
          "metadata": {},
          "output_type": "execute_result"
        }
      ],
      "source": [
        "len(X[0])"
      ]
    },
    {
      "cell_type": "code",
      "execution_count": null,
      "metadata": {
        "id": "oZZusACtUkAO",
        "outputId": "5db4d8ae-08c1-4491-d9c9-ef060aaae179"
      },
      "outputs": [
        {
          "data": {
            "text/plain": [
              "array([[29],\n",
              "       [34],\n",
              "       [33],\n",
              "       ...,\n",
              "       [ 3],\n",
              "       [ 0],\n",
              "       [ 0]], dtype=uint8)"
            ]
          },
          "execution_count": 70,
          "metadata": {},
          "output_type": "execute_result"
        }
      ],
      "source": [
        "X[0]"
      ]
    },
    {
      "cell_type": "code",
      "execution_count": null,
      "metadata": {
        "id": "icd5YceZUkAO",
        "outputId": "a2d9b9fa-4f3b-4927-e637-012ad727d6ec"
      },
      "outputs": [
        {
          "data": {
            "text/plain": [
              "0"
            ]
          },
          "execution_count": 71,
          "metadata": {},
          "output_type": "execute_result"
        }
      ],
      "source": [
        "y[0]"
      ]
    },
    {
      "cell_type": "code",
      "execution_count": null,
      "metadata": {
        "id": "1B6v8pkGUkAP",
        "outputId": "058967af-f48c-40a0-ba07-c9531c227d62"
      },
      "outputs": [
        {
          "data": {
            "text/plain": [
              "(124, 4096)"
            ]
          },
          "execution_count": 72,
          "metadata": {},
          "output_type": "execute_result"
        }
      ],
      "source": [
        "X = np.array(X).reshape(len(X),4096).astype(float)\n",
        "X.shape"
      ]
    },
    {
      "cell_type": "code",
      "execution_count": null,
      "metadata": {
        "id": "QjXBBNCyUkAP"
      },
      "outputs": [],
      "source": [
        "from sklearn.svm import SVC\n",
        "from sklearn.preprocessing import StandardScaler\n",
        "from sklearn.model_selection import train_test_split\n",
        "from sklearn.pipeline import Pipeline\n",
        "from sklearn.metrics import classification_report"
      ]
    },
    {
      "cell_type": "code",
      "execution_count": null,
      "metadata": {
        "id": "xLomVuhbUkAP",
        "outputId": "c1702c37-a3cd-4061-8f9e-0b11f8c65b1f"
      },
      "outputs": [
        {
          "data": {
            "text/plain": [
              "0.8709677419354839"
            ]
          },
          "execution_count": 75,
          "metadata": {},
          "output_type": "execute_result"
        }
      ],
      "source": [
        "X_train, X_test, y_train, y_test = train_test_split(X, y, random_state=0)\n",
        "\n",
        "pipe = Pipeline([('scaler', StandardScaler()), ('svc', SVC(kernel = 'rbf', C = 10))])\n",
        "pipe.fit(X_train, y_train)\n",
        "pipe.score(X_test, y_test)"
      ]
    },
    {
      "cell_type": "code",
      "execution_count": null,
      "metadata": {
        "id": "detjM6V2UkAP",
        "outputId": "68c175db-0acf-4f7b-ef43-2bd6e3c273e2"
      },
      "outputs": [
        {
          "name": "stdout",
          "output_type": "stream",
          "text": [
            "              precision    recall  f1-score   support\n",
            "\n",
            "           0       1.00      0.73      0.84        11\n",
            "           1       0.00      0.00      0.00         1\n",
            "           2       0.90      1.00      0.95         9\n",
            "           3       0.77      1.00      0.87        10\n",
            "\n",
            "    accuracy                           0.87        31\n",
            "   macro avg       0.67      0.68      0.66        31\n",
            "weighted avg       0.86      0.87      0.85        31\n",
            "\n"
          ]
        },
        {
          "name": "stderr",
          "output_type": "stream",
          "text": [
            "C:\\Users\\harik\\Anaconda3\\lib\\site-packages\\sklearn\\metrics\\classification.py:1437: UndefinedMetricWarning: Precision and F-score are ill-defined and being set to 0.0 in labels with no predicted samples.\n",
            "  'precision', 'predicted', average, warn_for)\n"
          ]
        }
      ],
      "source": [
        "print(classification_report(y_test, pipe.predict(X_test)))"
      ]
    },
    {
      "cell_type": "code",
      "execution_count": null,
      "metadata": {
        "id": "AhV8_XlKUkAP"
      },
      "outputs": [],
      "source": [
        "#Let's use GridSearch to try out different models with different paramets. Goal is to come up with best modle with best fine tuned parameters"
      ]
    },
    {
      "cell_type": "code",
      "execution_count": null,
      "metadata": {
        "id": "2fKp-cOfUkAQ"
      },
      "outputs": [],
      "source": [
        "from sklearn import svm\n",
        "from sklearn.ensemble import RandomForestClassifier\n",
        "from sklearn.linear_model import LogisticRegression\n",
        "from sklearn.pipeline import make_pipeline\n",
        "from sklearn.model_selection import GridSearchCV"
      ]
    },
    {
      "cell_type": "code",
      "execution_count": null,
      "metadata": {
        "id": "IObgmehOUkAQ"
      },
      "outputs": [],
      "source": [
        "model_params = {\n",
        "    'svm': {\n",
        "        'model': svm.SVC(gamma='auto',probability=True),\n",
        "        'params' : {\n",
        "            'svc__C': [1,10,100,1000],\n",
        "            'svc__kernel': ['rbf','linear']\n",
        "        }  \n",
        "    },\n",
        "    'random_forest': {\n",
        "        'model': RandomForestClassifier(),\n",
        "        'params' : {\n",
        "            'randomforestclassifier__n_estimators': [1,5,10]\n",
        "        }\n",
        "    },\n",
        "    'logistic_regression' : {\n",
        "        'model': LogisticRegression(solver='liblinear',multi_class='auto'),\n",
        "        'params': {\n",
        "            'logisticregression__C': [1,5,10]\n",
        "        }\n",
        "    }\n",
        "}"
      ]
    },
    {
      "cell_type": "code",
      "execution_count": null,
      "metadata": {
        "id": "mib4mbUTUkAQ",
        "outputId": "764a8076-e491-4e66-d64a-3db2be0bb2c9"
      },
      "outputs": [
        {
          "name": "stderr",
          "output_type": "stream",
          "text": [
            "C:\\Users\\harik\\Anaconda3\\lib\\site-packages\\sklearn\\model_selection\\_split.py:657: Warning: The least populated class in y has only 4 members, which is too few. The minimum number of members in any class cannot be less than n_splits=5.\n",
            "  % (min_groups, self.n_splits)), Warning)\n",
            "C:\\Users\\harik\\Anaconda3\\lib\\site-packages\\sklearn\\model_selection\\_search.py:813: DeprecationWarning: The default of the `iid` parameter will change from True to False in version 0.22 and will be removed in 0.24. This will change numeric results when test-set sizes are unequal.\n",
            "  DeprecationWarning)\n",
            "C:\\Users\\harik\\Anaconda3\\lib\\site-packages\\sklearn\\model_selection\\_split.py:657: Warning: The least populated class in y has only 4 members, which is too few. The minimum number of members in any class cannot be less than n_splits=5.\n",
            "  % (min_groups, self.n_splits)), Warning)\n",
            "C:\\Users\\harik\\Anaconda3\\lib\\site-packages\\sklearn\\model_selection\\_search.py:813: DeprecationWarning: The default of the `iid` parameter will change from True to False in version 0.22 and will be removed in 0.24. This will change numeric results when test-set sizes are unequal.\n",
            "  DeprecationWarning)\n",
            "C:\\Users\\harik\\Anaconda3\\lib\\site-packages\\sklearn\\model_selection\\_split.py:657: Warning: The least populated class in y has only 4 members, which is too few. The minimum number of members in any class cannot be less than n_splits=5.\n",
            "  % (min_groups, self.n_splits)), Warning)\n",
            "C:\\Users\\harik\\Anaconda3\\lib\\site-packages\\sklearn\\model_selection\\_search.py:813: DeprecationWarning: The default of the `iid` parameter will change from True to False in version 0.22 and will be removed in 0.24. This will change numeric results when test-set sizes are unequal.\n",
            "  DeprecationWarning)\n"
          ]
        },
        {
          "data": {
            "text/html": [
              "<div>\n",
              "<style scoped>\n",
              "    .dataframe tbody tr th:only-of-type {\n",
              "        vertical-align: middle;\n",
              "    }\n",
              "\n",
              "    .dataframe tbody tr th {\n",
              "        vertical-align: top;\n",
              "    }\n",
              "\n",
              "    .dataframe thead th {\n",
              "        text-align: right;\n",
              "    }\n",
              "</style>\n",
              "<table border=\"1\" class=\"dataframe\">\n",
              "  <thead>\n",
              "    <tr style=\"text-align: right;\">\n",
              "      <th></th>\n",
              "      <th>model</th>\n",
              "      <th>best_score</th>\n",
              "      <th>best_params</th>\n",
              "    </tr>\n",
              "  </thead>\n",
              "  <tbody>\n",
              "    <tr>\n",
              "      <th>0</th>\n",
              "      <td>svm</td>\n",
              "      <td>0.817204</td>\n",
              "      <td>{'svc__C': 1, 'svc__kernel': 'linear'}</td>\n",
              "    </tr>\n",
              "    <tr>\n",
              "      <th>1</th>\n",
              "      <td>random_forest</td>\n",
              "      <td>0.677419</td>\n",
              "      <td>{'randomforestclassifier__n_estimators': 10}</td>\n",
              "    </tr>\n",
              "    <tr>\n",
              "      <th>2</th>\n",
              "      <td>logistic_regression</td>\n",
              "      <td>0.698925</td>\n",
              "      <td>{'logisticregression__C': 1}</td>\n",
              "    </tr>\n",
              "  </tbody>\n",
              "</table>\n",
              "</div>"
            ],
            "text/plain": [
              "                 model  best_score  \\\n",
              "0                  svm    0.817204   \n",
              "1        random_forest    0.677419   \n",
              "2  logistic_regression    0.698925   \n",
              "\n",
              "                                    best_params  \n",
              "0        {'svc__C': 1, 'svc__kernel': 'linear'}  \n",
              "1  {'randomforestclassifier__n_estimators': 10}  \n",
              "2                  {'logisticregression__C': 1}  "
            ]
          },
          "execution_count": 80,
          "metadata": {},
          "output_type": "execute_result"
        }
      ],
      "source": [
        "scores = []\n",
        "best_estimators = {}\n",
        "import pandas as pd\n",
        "for algo, mp in model_params.items():\n",
        "    pipe = make_pipeline(StandardScaler(), mp['model'])\n",
        "    clf =  GridSearchCV(pipe, mp['params'], cv=5, return_train_score=False)\n",
        "    clf.fit(X_train, y_train)\n",
        "    scores.append({\n",
        "        'model': algo,\n",
        "        'best_score': clf.best_score_,\n",
        "        'best_params': clf.best_params_\n",
        "    })\n",
        "    best_estimators[algo] = clf.best_estimator_\n",
        "    \n",
        "df = pd.DataFrame(scores,columns=['model','best_score','best_params'])\n",
        "df"
      ]
    },
    {
      "cell_type": "code",
      "execution_count": null,
      "metadata": {
        "id": "0sPO9EgeUkAQ",
        "outputId": "0b34b7ed-85c0-4d1c-eb83-4c371ba56c5c"
      },
      "outputs": [
        {
          "data": {
            "text/plain": [
              "{'svm': Pipeline(memory=None,\n",
              "          steps=[('standardscaler',\n",
              "                  StandardScaler(copy=True, with_mean=True, with_std=True)),\n",
              "                 ('svc',\n",
              "                  SVC(C=1, cache_size=200, class_weight=None, coef0=0.0,\n",
              "                      decision_function_shape='ovr', degree=3, gamma='auto',\n",
              "                      kernel='linear', max_iter=-1, probability=True,\n",
              "                      random_state=None, shrinking=True, tol=0.001,\n",
              "                      verbose=False))],\n",
              "          verbose=False), 'random_forest': Pipeline(memory=None,\n",
              "          steps=[('standardscaler',\n",
              "                  StandardScaler(copy=True, with_mean=True, with_std=True)),\n",
              "                 ('randomforestclassifier',\n",
              "                  RandomForestClassifier(bootstrap=True, class_weight=None,\n",
              "                                         criterion='gini', max_depth=None,\n",
              "                                         max_features='auto',\n",
              "                                         max_leaf_nodes=None,\n",
              "                                         min_impurity_decrease=0.0,\n",
              "                                         min_impurity_split=None,\n",
              "                                         min_samples_leaf=1, min_samples_split=2,\n",
              "                                         min_weight_fraction_leaf=0.0,\n",
              "                                         n_estimators=10, n_jobs=None,\n",
              "                                         oob_score=False, random_state=None,\n",
              "                                         verbose=0, warm_start=False))],\n",
              "          verbose=False), 'logistic_regression': Pipeline(memory=None,\n",
              "          steps=[('standardscaler',\n",
              "                  StandardScaler(copy=True, with_mean=True, with_std=True)),\n",
              "                 ('logisticregression',\n",
              "                  LogisticRegression(C=1, class_weight=None, dual=False,\n",
              "                                     fit_intercept=True, intercept_scaling=1,\n",
              "                                     l1_ratio=None, max_iter=100,\n",
              "                                     multi_class='auto', n_jobs=None,\n",
              "                                     penalty='l2', random_state=None,\n",
              "                                     solver='liblinear', tol=0.0001, verbose=0,\n",
              "                                     warm_start=False))],\n",
              "          verbose=False)}"
            ]
          },
          "execution_count": 81,
          "metadata": {},
          "output_type": "execute_result"
        }
      ],
      "source": [
        "best_estimators"
      ]
    },
    {
      "cell_type": "code",
      "execution_count": null,
      "metadata": {
        "id": "kyP5qe0eUkAR",
        "outputId": "b21144aa-52c2-4a36-ff63-afb38dba097e"
      },
      "outputs": [
        {
          "data": {
            "text/plain": [
              "0.8387096774193549"
            ]
          },
          "execution_count": 82,
          "metadata": {},
          "output_type": "execute_result"
        }
      ],
      "source": [
        "best_estimators['logistic_regression'].score(X_test,y_test)"
      ]
    },
    {
      "cell_type": "code",
      "execution_count": null,
      "metadata": {
        "id": "Wiang8CKUkAR",
        "outputId": "12925dcd-9c84-4092-852f-1ee20162edcd"
      },
      "outputs": [
        {
          "data": {
            "text/plain": [
              "0.7419354838709677"
            ]
          },
          "execution_count": 83,
          "metadata": {},
          "output_type": "execute_result"
        }
      ],
      "source": [
        "best_estimators['random_forest'].score(X_test,y_test)"
      ]
    },
    {
      "cell_type": "code",
      "execution_count": null,
      "metadata": {
        "id": "oS5iEh_fUkAR",
        "outputId": "4140e9b8-b7c7-4687-8c90-622cea27ef91"
      },
      "outputs": [
        {
          "data": {
            "text/plain": [
              "0.967741935483871"
            ]
          },
          "execution_count": 84,
          "metadata": {},
          "output_type": "execute_result"
        }
      ],
      "source": [
        "best_estimators['svm'].score(X_test,y_test)"
      ]
    },
    {
      "cell_type": "code",
      "execution_count": null,
      "metadata": {
        "id": "BKu2RRDJUkAR"
      },
      "outputs": [],
      "source": [
        "#We cna see that SVM is the best Classifier,so we finalise that as our Final Model\n",
        "best_clf = best_estimators['svm']"
      ]
    },
    {
      "cell_type": "code",
      "execution_count": null,
      "metadata": {
        "id": "bAo-5U3DUkAR",
        "outputId": "9ce9ec1b-f93c-470c-8516-02e65cbe3061"
      },
      "outputs": [
        {
          "data": {
            "text/plain": [
              "array([[10,  0,  1,  0],\n",
              "       [ 0,  1,  0,  0],\n",
              "       [ 0,  0,  9,  0],\n",
              "       [ 0,  0,  0, 10]], dtype=int64)"
            ]
          },
          "execution_count": 86,
          "metadata": {},
          "output_type": "execute_result"
        }
      ],
      "source": [
        "from sklearn.metrics import confusion_matrix\n",
        "conf_mat = confusion_matrix(y_test, best_clf.predict(X_test))\n",
        "conf_mat"
      ]
    },
    {
      "cell_type": "code",
      "execution_count": null,
      "metadata": {
        "id": "8eYPI2TnUkAS",
        "outputId": "6968d550-6daa-4e1d-900a-c95ad6266a9a"
      },
      "outputs": [
        {
          "data": {
            "text/plain": [
              "Text(69.0, 0.5, 'Truth')"
            ]
          },
          "execution_count": 88,
          "metadata": {},
          "output_type": "execute_result"
        },
        {
          "data": {
            "image/png": "[encoded data removed]",
            "text/plain": [
              "<Figure size 720x504 with 2 Axes>"
            ]
          },
          "metadata": {
            "needs_background": "light"
          },
          "output_type": "display_data"
        }
      ],
      "source": [
        "#Now we plot the confusion matrix using seaborn and view its concentration\n",
        "import seaborn as sn\n",
        "plt.figure(figsize = (10,7))\n",
        "sn.heatmap(conf_mat, annot=True)\n",
        "plt.xlabel('Predicted')\n",
        "plt.ylabel('Truth')"
      ]
    },
    {
      "cell_type": "code",
      "execution_count": null,
      "metadata": {
        "id": "4_Sz_PN6UkAS",
        "outputId": "10dc27b7-3ccd-4220-f5e6-148a94942819"
      },
      "outputs": [
        {
          "data": {
            "text/plain": [
              "{'Messi': 0, 'Dhoni': 1, 'Federer': 2, 'Kohli': 3}"
            ]
          },
          "execution_count": 89,
          "metadata": {},
          "output_type": "execute_result"
        }
      ],
      "source": [
        "class_dict"
      ]
    },
    {
      "cell_type": "code",
      "execution_count": null,
      "metadata": {
        "id": "M6lO4fS5UkAS",
        "outputId": "16f43c41-167d-4493-cc70-6b3a053e0820"
      },
      "outputs": [
        {
          "name": "stdout",
          "output_type": "stream",
          "text": [
            "Requirement already satisfied: joblib in c:\\users\\harik\\anaconda3\\lib\\site-packages (0.13.2)\n"
          ]
        },
        {
          "data": {
            "text/plain": [
              "['saved_model.pkl']"
            ]
          },
          "execution_count": 90,
          "metadata": {},
          "output_type": "execute_result"
        }
      ],
      "source": [
        "#Now we save the trained Final model using joblib library\n",
        "!pip install joblib\n",
        "import joblib \n",
        "# Save the model as a pickle in a file \n",
        "joblib.dump(best_clf, 'saved_model.pkl') "
      ]
    },
    {
      "cell_type": "code",
      "execution_count": null,
      "metadata": {
        "id": "raZ322wAUkAS"
      },
      "outputs": [],
      "source": [
        "#Now we save Class dictionary\n",
        "#We can find the saved json files in this location : c:\\users\\harik\\anaconda3\\lib\\site-packages\n",
        "import json\n",
        "with open(\"class_dictionary.json\",\"w\") as f:\n",
        "    f.write(json.dumps(class_dict))"
      ]
    },
    {
      "cell_type": "markdown",
      "source": [
        "Note:If you cant find the saved images in your PC then go to the jupiter main 'Home' page and navigate through the given path of the file,there you will find the saved files,then dowload these files onto your Laptop."
      ],
      "metadata": {
        "id": "R6Wd0tUFUl6y"
      }
    }
  ],
  "metadata": {
    "kernelspec": {
      "display_name": "Python 3",
      "language": "python",
      "name": "python3"
    },
    "language_info": {
      "codemirror_mode": {
        "name": "ipython",
        "version": 3
      },
      "file_extension": ".py",
      "mimetype": "text/x-python",
      "name": "python",
      "nbconvert_exporter": "python",
      "pygments_lexer": "ipython3",
      "version": "3.7.3"
    },
    "colab": {
      "provenance": []
    }
  },
  "nbformat": 4,
  "nbformat_minor": 0
}